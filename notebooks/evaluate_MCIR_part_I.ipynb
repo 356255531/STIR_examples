{
 "cells": [
  {
   "cell_type": "code",
   "execution_count": null,
   "metadata": {
    "slideshow": {
     "slide_type": "slide"
    }
   },
   "outputs": [],
   "source": [
    "# -*- coding: utf-8 -*-\n",
    "\"\"\"\n",
    "Example script to serve as starting point for displaying and comparing results of motion correction versus no motion correction.\n",
    "\n",
    "Prerequisite:\n",
    "You should have executed the following on your command prompt\n",
    "    ./run_simulations_thorax.sh\n",
    "    ./run_MCIR_0.sh\n",
    "    ./run_MCIR_1.sh\n",
    "\n",
    "Authors: Kris Thielemans & Harry Tsoumpas\n",
    "\"\"\""
   ]
  },
  {
   "cell_type": "code",
   "execution_count": null,
   "metadata": {},
   "outputs": [],
   "source": [
    "%matplotlib notebook"
   ]
  },
  {
   "cell_type": "markdown",
   "metadata": {
    "slideshow": {
     "slide_type": "slide"
    }
   },
   "source": [
    "# Initial imports"
   ]
  },
  {
   "cell_type": "code",
   "execution_count": null,
   "metadata": {
    "slideshow": {
     "slide_type": "slide"
    }
   },
   "outputs": [],
   "source": [
    "import numpy\n",
    "import matplotlib.pyplot as plt\n",
    "import stir\n",
    "from stirextra import *\n",
    "import os"
   ]
  },
  {
   "cell_type": "markdown",
   "metadata": {
    "slideshow": {
     "slide_type": "slide"
    }
   },
   "source": [
    "# go to directory with input files"
   ]
  },
  {
   "cell_type": "code",
   "execution_count": null,
   "metadata": {
    "slideshow": {
     "slide_type": "slide"
    }
   },
   "outputs": [],
   "source": [
    "# adapt this path to your situation (or start everything in the exercises directory)\n",
    "os.chdir(os.getenv('STIR_exercises_PATH'))"
   ]
  },
  {
   "cell_type": "markdown",
   "metadata": {
    "slideshow": {
     "slide_type": "slide"
    }
   },
   "source": [
    "# Read in images"
   ]
  },
  {
   "cell_type": "code",
   "execution_count": null,
   "metadata": {
    "slideshow": {
     "slide_type": "slide"
    }
   },
   "outputs": [],
   "source": [
    "MCIR=to_numpy(stir.FloatVoxelsOnCartesianGrid.read_from_file('working_folder/MCIR/MCIR_64.hv'));\n",
    "noMC=to_numpy(stir.FloatVoxelsOnCartesianGrid.read_from_file('working_folder/noMC/noMC_64.hv'));\n",
    "Original=to_numpy(stir.FloatVoxelsOnCartesianGrid.read_from_file('EX_simulation/FDG_g1.hv'));"
   ]
  },
  {
   "cell_type": "markdown",
   "metadata": {
    "slideshow": {
     "slide_type": "slide"
    }
   },
   "source": [
    "# bitmap display of images"
   ]
  },
  {
   "cell_type": "code",
   "execution_count": null,
   "metadata": {
    "slideshow": {
     "slide_type": "slide"
    }
   },
   "outputs": [],
   "source": [
    "# pick central slice\n",
    "slice=numpy.int(Original.shape[0]/2);\n",
    "\n",
    "fig=plt.figure();\n",
    "maxforplot=Original.max()/2;\n",
    "ax=plt.subplot(1,3,1);\n",
    "plt.imshow(Original[slice,:,:,]);\n",
    "plt.clim(0,maxforplot);\n",
    "plt.colorbar();\n",
    "plt.axis('off');\n",
    "ax.set_title('Original');\n",
    "\n",
    "\n",
    "ax=plt.subplot(1,3,2);\n",
    "plt.imshow(MCIR[slice,:,:,]);\n",
    "plt.clim(0,maxforplot);\n",
    "plt.colorbar();\n",
    "plt.axis('off');\n",
    "ax.set_title('MCIR');\n",
    "\n",
    "ax=plt.subplot(1,3,3);\n",
    "plt.imshow(noMC[slice,:,:,]);\n",
    "plt.clim(0,maxforplot);\n",
    "plt.colorbar();\n",
    "plt.axis('off');\n",
    "ax.set_title('noMC');\n",
    "\n",
    "fig.savefig('MCIR_vs_noMC_bitmaps.png')"
   ]
  },
  {
   "cell_type": "markdown",
   "metadata": {
    "slideshow": {
     "slide_type": "slide"
    }
   },
   "source": [
    "# Display difference image"
   ]
  },
  {
   "cell_type": "code",
   "execution_count": null,
   "metadata": {
    "slideshow": {
     "slide_type": "slide"
    }
   },
   "outputs": [],
   "source": [
    "diff=MCIR-noMC;\n",
    "fig=plt.figure()\n",
    "ax=plt.subplot(1,1,1);\n",
    "plt.imshow(diff[slice,:,:,]);\n",
    "plt.clim(-maxforplot/50,maxforplot/50)\n",
    "plt.colorbar();\n",
    "plt.axis('off');\n",
    "ax.set_title('diff');\n",
    "\n",
    "fig.savefig('MCIR_vs_noMC_diff_bitmap.png')"
   ]
  },
  {
   "cell_type": "markdown",
   "metadata": {
    "slideshow": {
     "slide_type": "slide"
    }
   },
   "source": [
    "# Display central horizontal profiles through the image"
   ]
  },
  {
   "cell_type": "code",
   "execution_count": null,
   "metadata": {
    "slideshow": {
     "slide_type": "slide"
    }
   },
   "outputs": [],
   "source": [
    "# pick a line close to central line\n",
    "row=numpy.int(MCIR.shape[1]/2+3);\n",
    "\n",
    "fig=plt.figure()\n",
    "plt.plot(MCIR[slice,row,:],'b');\n",
    "#plt.hold(True)\n",
    "plt.plot(noMC[slice,row,:],'c');\n",
    "plt.legend(('MCIR','noMC'));"
   ]
  },
  {
   "cell_type": "markdown",
   "metadata": {
    "slideshow": {
     "slide_type": "slide"
    }
   },
   "source": [
    "# bitmap display of motion vectors"
   ]
  },
  {
   "cell_type": "code",
   "execution_count": null,
   "metadata": {
    "slideshow": {
     "slide_type": "slide"
    }
   },
   "outputs": [],
   "source": [
    "# The motion files forward & backward\n",
    "# First read in motion information from images\n",
    "ForwardMotion_X=to_numpy(stir.FloatVoxelsOnCartesianGrid.read_from_file('EX_motion/motion_g1d1.hv'));\n",
    "ForwardMotion_Y=to_numpy(stir.FloatVoxelsOnCartesianGrid.read_from_file('EX_motion/motion_g1d2.hv'));\n",
    "ForwardMotion_Z=to_numpy(stir.FloatVoxelsOnCartesianGrid.read_from_file('EX_motion/motion_g1d3.hv'));\n",
    "BackwardMotion_X=to_numpy(stir.FloatVoxelsOnCartesianGrid.read_from_file('EX_motion/motion_inv_g1d1.hv'));\n",
    "BackwardMotion_Y=to_numpy(stir.FloatVoxelsOnCartesianGrid.read_from_file('EX_motion/motion_inv_g1d2.hv'));\n",
    "BackwardMotion_Z=to_numpy(stir.FloatVoxelsOnCartesianGrid.read_from_file('EX_motion/motion_inv_g1d3.hv'));"
   ]
  },
  {
   "cell_type": "markdown",
   "metadata": {
    "slideshow": {
     "slide_type": "slide"
    }
   },
   "source": [
    "# bitmaps showing forward motion images"
   ]
  },
  {
   "cell_type": "code",
   "execution_count": null,
   "metadata": {
    "slideshow": {
     "slide_type": "slide"
    }
   },
   "outputs": [],
   "source": [
    "# In the current demo, they are quite boring: the example motion is just a translation\n",
    "maxforplot=ForwardMotion_Z.max();\n",
    "\n",
    "# pick central slice\n",
    "slice=numpy.int(ForwardMotion_X.shape[0]/2);\n",
    "\n",
    "plt.figure();\n",
    "ax=plt.subplot(1,3,1);\n",
    "plt.imshow(ForwardMotion_X[slice,:,:,]);\n",
    "plt.clim(0,maxforplot)\n",
    "plt.colorbar();\n",
    "plt.axis('off');\n",
    "ax.set_title('Forward_X');\n",
    "\n",
    "ax=plt.subplot(1,3,2);\n",
    "plt.imshow(ForwardMotion_Y[slice,:,:,]);\n",
    "plt.clim(0,maxforplot)\n",
    "plt.colorbar();\n",
    "plt.axis('off');\n",
    "ax.set_title('Forward_Y');\n",
    "\n",
    "ax=plt.subplot(1,3,3);\n",
    "plt.imshow(ForwardMotion_Z[slice,:,:,]);\n",
    "plt.clim(0,maxforplot)\n",
    "plt.colorbar();\n",
    "plt.axis('off');\n",
    "ax.set_title('Forward_Z');"
   ]
  },
  {
   "cell_type": "markdown",
   "metadata": {
    "slideshow": {
     "slide_type": "slide"
    }
   },
   "source": [
    "# bitmaps showing backward motion images"
   ]
  },
  {
   "cell_type": "code",
   "execution_count": null,
   "metadata": {
    "slideshow": {
     "slide_type": "slide"
    }
   },
   "outputs": [],
   "source": [
    "maxforplot=BackwardMotion_Z.max();\n",
    "\n",
    "# pick central slice\n",
    "slice=numpy.int(BackwardMotion_X.shape[0]/2);\n",
    "\n",
    "plt.figure();\n",
    "ax=plt.subplot(1,3,1);\n",
    "plt.imshow(BackwardMotion_X[slice,:,:,]);\n",
    "plt.clim(0,maxforplot)\n",
    "plt.colorbar();\n",
    "plt.axis('off');\n",
    "ax.set_title('Backward_X');\n",
    "\n",
    "ax=plt.subplot(1,3,2);\n",
    "plt.imshow(BackwardMotion_Y[slice,:,:,]);\n",
    "plt.clim(0,maxforplot)\n",
    "plt.colorbar();\n",
    "plt.axis('off');\n",
    "ax.set_title('Backward_Y');\n",
    "\n",
    "ax=plt.subplot(1,3,3);\n",
    "plt.imshow(BackwardMotion_Z[slice,:,:,]);\n",
    "plt.clim(0,maxforplot)\n",
    "plt.colorbar();\n",
    "plt.axis('off');\n",
    "ax.set_title('Backward_Z');"
   ]
  },
  {
   "cell_type": "markdown",
   "metadata": {
    "slideshow": {
     "slide_type": "slide"
    }
   },
   "source": [
    "# close all plots"
   ]
  },
  {
   "cell_type": "code",
   "execution_count": null,
   "metadata": {
    "slideshow": {
     "slide_type": "slide"
    }
   },
   "outputs": [],
   "source": [
    "plt.close('all')"
   ]
  }
 ],
 "metadata": {
  "language": "python"
 },
 "nbformat": 4,
 "nbformat_minor": 2
}
