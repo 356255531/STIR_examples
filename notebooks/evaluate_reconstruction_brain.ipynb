{
 "cells": [
  {
   "cell_type": "code",
   "execution_count": null,
   "metadata": {
    "slideshow": {
     "slide_type": "slide"
    }
   },
   "outputs": [],
   "source": [
    "# -*- coding: utf-8 -*-\n",
    "\"\"\"\n",
    "Example script to serve as starting point for displaying the results of the brain reconstruction.\n",
    "\n",
    "The current script reads results from the simulation and displays them.\n",
    "\n",
    "Prerequisite:\n",
    "You should have executed the following on your command prompt\n",
    "    ./run_simulation_brain.sh\n",
    "    ./run_reconstruction_brain.sh\n",
    "\n",
    "Author: Kris Thielemans\n",
    "\"\"\""
   ]
  },
  {
   "cell_type": "code",
   "execution_count": null,
   "metadata": {},
   "outputs": [],
   "source": [
    "%matplotlib notebook"
   ]
  },
  {
   "cell_type": "markdown",
   "metadata": {
    "slideshow": {
     "slide_type": "slide"
    }
   },
   "source": [
    "# Initial imports"
   ]
  },
  {
   "cell_type": "code",
   "execution_count": null,
   "metadata": {
    "slideshow": {
     "slide_type": "slide"
    }
   },
   "outputs": [],
   "source": [
    "import numpy\n",
    "import matplotlib.pyplot as plt\n",
    "import stir\n",
    "from stirextra import *\n",
    "import os"
   ]
  },
  {
   "cell_type": "markdown",
   "metadata": {
    "slideshow": {
     "slide_type": "slide"
    }
   },
   "source": [
    "# go to directory with input files"
   ]
  },
  {
   "cell_type": "code",
   "execution_count": null,
   "metadata": {
    "slideshow": {
     "slide_type": "slide"
    }
   },
   "outputs": [],
   "source": [
    "# adapt this path to your situation (or start everything in the exercises directory)\n",
    "os.chdir(os.getenv('STIR_exercises_PATH'))"
   ]
  },
  {
   "cell_type": "markdown",
   "metadata": {
    "slideshow": {
     "slide_type": "slide"
    }
   },
   "source": [
    "# change directory to where the output files are"
   ]
  },
  {
   "cell_type": "code",
   "execution_count": null,
   "metadata": {
    "slideshow": {
     "slide_type": "slide"
    }
   },
   "outputs": [],
   "source": [
    "os.chdir('working_folder/brain')"
   ]
  },
  {
   "cell_type": "markdown",
   "metadata": {
    "slideshow": {
     "slide_type": "slide"
    }
   },
   "source": [
    "# Read in images"
   ]
  },
  {
   "cell_type": "code",
   "execution_count": null,
   "metadata": {
    "slideshow": {
     "slide_type": "slide"
    }
   },
   "outputs": [],
   "source": [
    "FBP=to_numpy(stir.FloatVoxelsOnCartesianGrid.read_from_file('fbp_recon.hv'));\n",
    "EMML240=to_numpy(stir.FloatVoxelsOnCartesianGrid.read_from_file('EMML_240.hv'));\n",
    "OSEM240=to_numpy(stir.FloatVoxelsOnCartesianGrid.read_from_file('OSEM_240.hv'));\n",
    "#OSEMPSF240=to_numpy(stir.FloatVoxelsOnCartesianGrid.read_from_file('OSEMPSF_240.hv'));\n",
    "\n",
    "filteredEMML240=to_numpy(stir.FloatVoxelsOnCartesianGrid.read_from_file('filtered_EMML_240.hv'));\n",
    "filteredOSEM240=to_numpy(stir.FloatVoxelsOnCartesianGrid.read_from_file('filtered_OSEM_240.hv'));"
   ]
  },
  {
   "cell_type": "markdown",
   "metadata": {
    "slideshow": {
     "slide_type": "slide"
    }
   },
   "source": [
    "# find max and slice number for plots"
   ]
  },
  {
   "cell_type": "code",
   "execution_count": null,
   "metadata": {
    "slideshow": {
     "slide_type": "slide"
    }
   },
   "outputs": [],
   "source": [
    "maxforplot=EMML240.max();\n",
    "# pick central slice\n",
    "slice=numpy.int(EMML240.shape[0]/2);"
   ]
  },
  {
   "cell_type": "markdown",
   "metadata": {
    "slideshow": {
     "slide_type": "slide"
    }
   },
   "source": [
    "# bitmap display of images FBP vs EMML"
   ]
  },
  {
   "cell_type": "code",
   "execution_count": null,
   "metadata": {
    "slideshow": {
     "slide_type": "slide"
    }
   },
   "outputs": [],
   "source": [
    "fig=plt.figure();\n",
    "ax=plt.subplot(1,2,1);\n",
    "plt.imshow(EMML240[slice,:,:,]);\n",
    "plt.clim(0,maxforplot)\n",
    "plt.colorbar();\n",
    "plt.axis('off');\n",
    "ax.set_title('EMML240');\n",
    "\n",
    "ax=plt.subplot(1,2,2);\n",
    "plt.imshow(FBP[slice,:,:,]);\n",
    "plt.clim(0,maxforplot)\n",
    "plt.colorbar();\n",
    "plt.axis('off');\n",
    "ax.set_title('FBP');\n",
    "\n",
    "fig.savefig('EMML_vs_FBP.png')"
   ]
  },
  {
   "cell_type": "markdown",
   "metadata": {
    "slideshow": {
     "slide_type": "slide"
    }
   },
   "source": [
    "# bitmap display of images EMML vs OSEM"
   ]
  },
  {
   "cell_type": "code",
   "execution_count": null,
   "metadata": {
    "slideshow": {
     "slide_type": "slide"
    }
   },
   "outputs": [],
   "source": [
    "fig=plt.figure();\n",
    "ax=plt.subplot(1,3,1);\n",
    "plt.imshow(EMML240[slice,:,:,]);\n",
    "plt.clim(0,maxforplot)\n",
    "plt.colorbar();\n",
    "plt.axis('off');\n",
    "ax.set_title('EMML240');\n",
    "\n",
    "ax=plt.subplot(1,3,2);\n",
    "plt.imshow(OSEM240[slice,:,:,]);\n",
    "plt.clim(0,maxforplot)\n",
    "plt.colorbar();\n",
    "plt.axis('off');\n",
    "ax.set_title('OSEM240');\n",
    "\n",
    "diff=EMML240-OSEM240;\n",
    "ax=plt.subplot(1,3,3);\n",
    "plt.imshow(diff[slice,:,:,]);\n",
    "plt.clim(-maxforplot/50,maxforplot/50)\n",
    "plt.colorbar();\n",
    "plt.axis('off');\n",
    "ax.set_title('diff');\n",
    "\n",
    "fig.savefig('EMML_vs_OSEM_bitmaps.png')"
   ]
  },
  {
   "cell_type": "markdown",
   "metadata": {
    "slideshow": {
     "slide_type": "slide"
    }
   },
   "source": [
    "# Display central horizontal profiles through the image"
   ]
  },
  {
   "cell_type": "code",
   "execution_count": null,
   "metadata": {
    "slideshow": {
     "slide_type": "slide"
    }
   },
   "outputs": [],
   "source": [
    "# pick central line\n",
    "row=numpy.int(OSEM240.shape[1]/2);\n",
    "\n",
    "fig=plt.figure()\n",
    "plt.plot(EMML240[slice,row,:],'b');\n",
    "#plt.hold(True)\n",
    "plt.plot(OSEM240[slice,row,:],'c');\n",
    "plt.legend(('EMML240','OSEM240'));\n",
    "\n",
    "fig.savefig('EMM_vs_OSEM_profiles.png')"
   ]
  },
  {
   "cell_type": "markdown",
   "metadata": {
    "slideshow": {
     "slide_type": "slide"
    }
   },
   "source": [
    "# bitmap display of images EMML vs OSEM after postfiltering"
   ]
  },
  {
   "cell_type": "code",
   "execution_count": null,
   "metadata": {
    "slideshow": {
     "slide_type": "slide"
    }
   },
   "outputs": [],
   "source": [
    "# note: check postfilter_Gaussian.par for parameters used for the postfilter\n",
    "maxforplot=filteredEMML240.max();\n",
    "# pick central slice\n",
    "slice=numpy.int(EMML240.shape[0]/2);\n",
    "\n",
    "fig=plt.figure();\n",
    "ax=plt.subplot(1,3,1);\n",
    "plt.imshow(filteredEMML240[slice,:,:,]);\n",
    "plt.clim(0,maxforplot)\n",
    "plt.colorbar();\n",
    "plt.axis('off');\n",
    "ax.set_title('EMML240\\nfiltered');\n",
    "\n",
    "ax=plt.subplot(1,3,2);\n",
    "plt.imshow(filteredOSEM240[slice,:,:,]);\n",
    "plt.clim(0,maxforplot)\n",
    "plt.colorbar();\n",
    "plt.axis('off');\n",
    "ax.set_title('OSEM240\\nfiltered');\n",
    "\n",
    "diff=filteredEMML240-filteredOSEM240;\n",
    "ax=plt.subplot(1,3,3);\n",
    "plt.imshow(diff[slice,:,:,]);\n",
    "plt.clim(-maxforplot/50,maxforplot/50)\n",
    "plt.colorbar();\n",
    "plt.axis('off');\n",
    "ax.set_title('diff');\n",
    "\n",
    "fig.savefig('EMML_vs_OSEM_postfiltered_bitmaps.png')"
   ]
  },
  {
   "cell_type": "markdown",
   "metadata": {
    "slideshow": {
     "slide_type": "slide"
    }
   },
   "source": [
    "# example code for seeing evaluation over (sub)iterations with EMML and OSEM"
   ]
  },
  {
   "cell_type": "code",
   "execution_count": null,
   "metadata": {
    "slideshow": {
     "slide_type": "slide"
    }
   },
   "outputs": [],
   "source": [
    "# The reconstruction script runs EMML and OSEM for 240 (sub)iterations, saving \n",
    "# after every 24 (sub)iterations, i.e. image-updates.\n",
    "# We can see what the difference is between after one image-update, or for OSEM\n",
    "# after when full iteration (using all 8 subsets)\n",
    "#\n",
    "# First read in extra images\n",
    "OSEM241=to_numpy(stir.FloatVoxelsOnCartesianGrid.read_from_file('OSEM_240_continued_1.hv'));\n",
    "OSEM242=to_numpy(stir.FloatVoxelsOnCartesianGrid.read_from_file('OSEM_240_continued_2.hv'));\n",
    "OSEM248=to_numpy(stir.FloatVoxelsOnCartesianGrid.read_from_file('OSEM_240_continued_8.hv'));\n",
    "EMML241=to_numpy(stir.FloatVoxelsOnCartesianGrid.read_from_file('EMML_240_continued_1.hv'));\n",
    "EMML242=to_numpy(stir.FloatVoxelsOnCartesianGrid.read_from_file('EMML_240_continued_2.hv'));\n",
    "EMML248=to_numpy(stir.FloatVoxelsOnCartesianGrid.read_from_file('EMML_240_continued_8.hv'));"
   ]
  },
  {
   "cell_type": "markdown",
   "metadata": {
    "slideshow": {
     "slide_type": "slide"
    }
   },
   "source": [
    "# bitmaps showing images and differences"
   ]
  },
  {
   "cell_type": "code",
   "execution_count": null,
   "metadata": {
    "slideshow": {
     "slide_type": "slide"
    }
   },
   "outputs": [],
   "source": [
    "maxforplot=EMML240.max();\n",
    "\n",
    "# pick central slice\n",
    "slice=numpy.int(EMML240.shape[0]/2);\n",
    "\n",
    "fig=plt.figure();\n",
    "ax=plt.subplot(1,3,1);\n",
    "plt.imshow(OSEM240[slice,:,:,]);\n",
    "plt.clim(0,maxforplot)\n",
    "plt.colorbar();\n",
    "plt.axis('off');\n",
    "ax.set_title('OSEM240');\n",
    "\n",
    "ax=plt.subplot(1,3,2);\n",
    "plt.imshow(OSEM241[slice,:,:,]);\n",
    "plt.clim(0,maxforplot)\n",
    "plt.colorbar();\n",
    "plt.axis('off');\n",
    "ax.set_title('OSEM241');\n",
    "\n",
    "diff=OSEM241-OSEM240;\n",
    "ax=plt.subplot(1,3,3);\n",
    "plt.imshow(diff[slice,:,:,]);\n",
    "plt.clim(-maxforplot/50,maxforplot/50)\n",
    "plt.colorbar();\n",
    "plt.axis('off');\n",
    "ax.set_title('diff');\n",
    "\n",
    "fig.savefig('EMML_vs_OSEM_update_bitmaps.png')"
   ]
  },
  {
   "cell_type": "markdown",
   "metadata": {
    "slideshow": {
     "slide_type": "slide"
    }
   },
   "source": [
    "# Display central horizontal profiles through the image for EMML"
   ]
  },
  {
   "cell_type": "code",
   "execution_count": null,
   "metadata": {
    "slideshow": {
     "slide_type": "slide"
    }
   },
   "outputs": [],
   "source": [
    "# pick central line\n",
    "row=numpy.int(EMML240.shape[1]/2);\n",
    "\n",
    "fig=plt.figure()\n",
    "plt.subplot(1,2,1)\n",
    "#plt.hold(True)\n",
    "plt.plot(EMML241[slice,row,:],'b');\n",
    "plt.plot(EMML240[slice,row,:],'c');\n",
    "plt.legend(('EMML241','EMML240'));\n",
    "\n",
    "plt.subplot(1,2,2)\n",
    "#plt.hold(True);\n",
    "plt.plot((EMML241-EMML240)[slice,row,:],'b');\n",
    "plt.plot((EMML242-EMML241)[slice,row,:],'k');\n",
    "plt.plot((EMML248-EMML240)[slice,row,:],'r');\n",
    "plt.legend(('iter 241 - iter 240', 'iter 242 - iter 241', 'iter 248 - iter 240'));"
   ]
  },
  {
   "cell_type": "markdown",
   "metadata": {
    "slideshow": {
     "slide_type": "slide"
    }
   },
   "source": [
    "# Display central horizontal profiles through the image for OSEM"
   ]
  },
  {
   "cell_type": "code",
   "execution_count": null,
   "metadata": {
    "slideshow": {
     "slide_type": "slide"
    }
   },
   "outputs": [],
   "source": [
    "fig=plt.figure()\n",
    "plt.subplot(1,2,1)\n",
    "#plt.hold(True)\n",
    "plt.plot(OSEM241[slice,row,:],'b');\n",
    "plt.plot(OSEM240[slice,row,:],'c');\n",
    "plt.legend(('OSEM241','OSEM240'));\n",
    "\n",
    "plt.subplot(1,2,2)\n",
    "#plt.hold(True);\n",
    "plt.plot((OSEM241-OSEM240)[slice,row,:],'b');\n",
    "plt.plot((OSEM242-OSEM241)[slice,row,:],'k');\n",
    "plt.plot((OSEM248-OSEM240)[slice,row,:],'r');\n",
    "plt.legend(('subiter 241 - subiter 240', \n",
    "    'subiter 242 - subiter 241', 'subiter 248 - subiter 240'));"
   ]
  },
  {
   "cell_type": "markdown",
   "metadata": {
    "slideshow": {
     "slide_type": "slide"
    }
   },
   "source": [
    "# close all plots"
   ]
  },
  {
   "cell_type": "code",
   "execution_count": null,
   "metadata": {
    "slideshow": {
     "slide_type": "slide"
    }
   },
   "outputs": [],
   "source": [
    "plt.close('all')"
   ]
  }
 ],
 "metadata": {
  "language": "python"
 },
 "nbformat": 4,
 "nbformat_minor": 2
}
