{
 "cells": [
  {
   "cell_type": "code",
   "execution_count": null,
   "metadata": {
    "slideshow": {
     "slide_type": "slide"
    }
   },
   "outputs": [],
   "source": [
    "# -*- coding: utf-8 -*-\n",
    "\"\"\"\n",
    "Example script to serve as starting point for displaying the results of the brain reconstruction.\n",
    "\n",
    "The current script reads results from the simulation and displays them.\n",
    "\n",
    "Prerequisite:\n",
    "You should have executed the following on your command prompt\n",
    "    ./run_simulation_brain.sh\n",
    "    ./run_reconstruction_brain.sh\n",
    "\n",
    "Author: Kris Thielemans\n",
    "\"\"\""
   ]
  },
  {
   "cell_type": "code",
   "execution_count": null,
   "metadata": {},
   "outputs": [],
   "source": [
    "%matplotlib notebook"
   ]
  },
  {
   "cell_type": "markdown",
   "metadata": {
    "slideshow": {
     "slide_type": "slide"
    }
   },
   "source": [
    "# Initial imports"
   ]
  },
  {
   "cell_type": "code",
   "execution_count": null,
   "metadata": {
    "slideshow": {
     "slide_type": "slide"
    }
   },
   "outputs": [],
   "source": [
    "import numpy\n",
    "import matplotlib.pyplot as plt\n",
    "import stir\n",
    "from stirextra import *\n",
    "import os"
   ]
  },
  {
   "cell_type": "markdown",
   "metadata": {
    "slideshow": {
     "slide_type": "slide"
    }
   },
   "source": [
    "# go to directory with input files"
   ]
  },
  {
   "cell_type": "code",
   "execution_count": null,
   "metadata": {
    "slideshow": {
     "slide_type": "slide"
    }
   },
   "outputs": [],
   "source": [
    "# adapt this path to your situation (or start everything in the exercises directory)\n",
    "os.chdir(os.getenv('STIR_exercises_PATH'))"
   ]
  },
  {
   "cell_type": "markdown",
   "metadata": {
    "slideshow": {
     "slide_type": "slide"
    }
   },
   "source": [
    "# change directory to where the output files are"
   ]
  },
  {
   "cell_type": "code",
   "execution_count": null,
   "metadata": {
    "slideshow": {
     "slide_type": "slide"
    }
   },
   "outputs": [],
   "source": [
    "os.chdir('working_folder/single_slice')"
   ]
  },
  {
   "cell_type": "markdown",
   "metadata": {
    "slideshow": {
     "slide_type": "slide"
    }
   },
   "source": [
    "# Read in images"
   ]
  },
  {
   "cell_type": "code",
   "execution_count": null,
   "metadata": {
    "slideshow": {
     "slide_type": "slide"
    }
   },
   "outputs": [],
   "source": [
    "OSEM240=to_numpy(stir.FloatVoxelsOnCartesianGrid.read_from_file('OSEM_240.hv'));\n",
    "OSEMZ240=to_numpy(stir.FloatVoxelsOnCartesianGrid.read_from_file('OSEM_zoom_240.hv'));\n",
    "OSEMZ10R240=to_numpy(stir.FloatVoxelsOnCartesianGrid.read_from_file('OSEM_zoom_10rays_240.hv'));"
   ]
  },
  {
   "cell_type": "markdown",
   "metadata": {
    "slideshow": {
     "slide_type": "slide"
    }
   },
   "source": [
    "# find max and slice number for plots"
   ]
  },
  {
   "cell_type": "code",
   "execution_count": null,
   "metadata": {
    "slideshow": {
     "slide_type": "slide"
    }
   },
   "outputs": [],
   "source": [
    "maxforplot=OSEM240.max();\n",
    "# pick central slice\n",
    "slice=numpy.int(OSEM240.shape[0]/2);"
   ]
  },
  {
   "cell_type": "markdown",
   "metadata": {
    "slideshow": {
     "slide_type": "slide"
    }
   },
   "source": [
    "# bitmap display of images OSEM vs OSEM zoomed"
   ]
  },
  {
   "cell_type": "code",
   "execution_count": null,
   "metadata": {
    "slideshow": {
     "slide_type": "slide"
    }
   },
   "outputs": [],
   "source": [
    "fig=plt.figure();\n",
    "ax=plt.subplot(1,2,1);\n",
    "plt.imshow(OSEM240[slice,:,:,]);\n",
    "plt.clim(0,maxforplot)\n",
    "plt.axis('off');\n",
    "ax.set_title('OSEM240');\n",
    "\n",
    "ax=plt.subplot(1,2,2);\n",
    "plt.imshow(2*OSEMZ240[slice,:,:,]);\n",
    "plt.clim(0,maxforplot)\n",
    "plt.axis('off');\n",
    "ax.set_title('OSEM z2');\n",
    "\n",
    "fig.savefig('OSEM_vs_OSEMx2zoom.png')"
   ]
  },
  {
   "cell_type": "markdown",
   "metadata": {
    "slideshow": {
     "slide_type": "slide"
    }
   },
   "source": [
    "# bitmap display of images OSEM vs OSEM with half voxel size in each direction"
   ]
  },
  {
   "cell_type": "code",
   "execution_count": null,
   "metadata": {
    "slideshow": {
     "slide_type": "slide"
    }
   },
   "outputs": [],
   "source": [
    "fig=plt.figure();\n",
    "ax=plt.subplot(2,2,1);\n",
    "plt.imshow(OSEM240[slice,:,:,]);\n",
    "plt.clim(0,maxforplot)\n",
    "plt.colorbar();\n",
    "plt.axis('off');\n",
    "ax.set_title('OSEM 240');\n",
    "\n",
    "ax=plt.subplot(2,2,2);\n",
    "plt.imshow(2*OSEMZ240[slice,:,:,]);\n",
    "plt.clim(0,maxforplot)\n",
    "plt.colorbar();\n",
    "plt.axis('off');\n",
    "ax.set_title('OSEMz2 240');\n",
    "\n",
    "ax=plt.subplot(2,2,3);\n",
    "plt.imshow(2*OSEMZ10R240[slice,:,:,]);\n",
    "plt.clim(0,maxforplot)\n",
    "plt.colorbar();\n",
    "plt.axis('off');\n",
    "ax.set_title('OSEMz2 R10 240');\n",
    "\n",
    "diff=OSEMZ240-OSEMZ10R240;\n",
    "ax=plt.subplot(2,2,4);\n",
    "plt.imshow(diff[slice,:,:,]);\n",
    "plt.clim(-maxforplot/50,maxforplot/50)\n",
    "plt.colorbar();\n",
    "plt.axis('off');\n",
    "ax.set_title('diff');\n",
    "\n",
    "fig.savefig('OSEM_vs_OSEMx2zoom_bitmaps.png')"
   ]
  },
  {
   "cell_type": "markdown",
   "metadata": {
    "slideshow": {
     "slide_type": "slide"
    }
   },
   "source": [
    "# Display central horizontal profiles through the image"
   ]
  },
  {
   "cell_type": "code",
   "execution_count": null,
   "metadata": {
    "slideshow": {
     "slide_type": "slide"
    }
   },
   "outputs": [],
   "source": [
    "# pick line through tumor\n",
    "row=84;\n",
    "\n",
    "fig=plt.figure()\n",
    "plt.plot(OSEM240[slice,row,0:185],'b');\n",
    "#plt.hold(True)\n",
    "plt.plot(2*OSEMZ240[slice,2*row-1,0:369:2],'c');\n",
    "plt.plot(2*OSEMZ10R240[slice,2*row-1,0:369:2],'r');\n",
    "plt.legend(('OSEM240','OSEMx2zoom240','OSEMx2zoom10rays240'));\n",
    "\n",
    "fig.savefig('OSEM_vs_OSEM2zoom_profiles.png')\n",
    "\n",
    "for line in open(\"OSEM.log\"):\n",
    " if \"Total CPU\" in line:\n",
    "   print line\n",
    "\n",
    "for line in open(\"OSEM_more_voxels.log\"):\n",
    " if \"Total CPU\" in line:\n",
    "   print line\n",
    "\n",
    "for line in open(\"OSEM_more_voxels_more_rays.log\"):\n",
    " if \"Total CPU\" in line:\n",
    "   print line"
   ]
  },
  {
   "cell_type": "markdown",
   "metadata": {
    "slideshow": {
     "slide_type": "slide"
    }
   },
   "source": [
    "# example code for seeing evaluation over iterations with OSEM, OSEM with zoom, OSEM with more rays"
   ]
  },
  {
   "cell_type": "code",
   "execution_count": null,
   "metadata": {
    "slideshow": {
     "slide_type": "slide"
    }
   },
   "outputs": [],
   "source": [
    "# First read in all iterations\n",
    "OSEM24=to_numpy(stir.FloatVoxelsOnCartesianGrid.read_from_file('OSEM_24.hv'));\n",
    "OSEM48=to_numpy(stir.FloatVoxelsOnCartesianGrid.read_from_file('OSEM_48.hv'));\n",
    "OSEM72=to_numpy(stir.FloatVoxelsOnCartesianGrid.read_from_file('OSEM_72.hv'));\n",
    "OSEM96=to_numpy(stir.FloatVoxelsOnCartesianGrid.read_from_file('OSEM_96.hv'));\n",
    "OSEM120=to_numpy(stir.FloatVoxelsOnCartesianGrid.read_from_file('OSEM_120.hv'));\n",
    "OSEM144=to_numpy(stir.FloatVoxelsOnCartesianGrid.read_from_file('OSEM_144.hv'));\n",
    "OSEM168=to_numpy(stir.FloatVoxelsOnCartesianGrid.read_from_file('OSEM_168.hv'));\n",
    "OSEM192=to_numpy(stir.FloatVoxelsOnCartesianGrid.read_from_file('OSEM_192.hv'));\n",
    "OSEM216=to_numpy(stir.FloatVoxelsOnCartesianGrid.read_from_file('OSEM_216.hv'));\n",
    "OSEM240=to_numpy(stir.FloatVoxelsOnCartesianGrid.read_from_file('OSEM_240.hv'));\n",
    "OSEMZ10R24=to_numpy(stir.FloatVoxelsOnCartesianGrid.read_from_file('OSEM_zoom_10rays_24.hv'));\n",
    "OSEMZ10R48=to_numpy(stir.FloatVoxelsOnCartesianGrid.read_from_file('OSEM_zoom_10rays_48.hv'));\n",
    "OSEMZ10R72=to_numpy(stir.FloatVoxelsOnCartesianGrid.read_from_file('OSEM_zoom_10rays_72.hv'));\n",
    "OSEMZ10R96=to_numpy(stir.FloatVoxelsOnCartesianGrid.read_from_file('OSEM_zoom_10rays_96.hv'));\n",
    "OSEMZ10R120=to_numpy(stir.FloatVoxelsOnCartesianGrid.read_from_file('OSEM_zoom_10rays_120.hv'));\n",
    "OSEMZ10R144=to_numpy(stir.FloatVoxelsOnCartesianGrid.read_from_file('OSEM_zoom_10rays_144.hv'));\n",
    "OSEMZ10R168=to_numpy(stir.FloatVoxelsOnCartesianGrid.read_from_file('OSEM_zoom_10rays_168.hv'));\n",
    "OSEMZ10R192=to_numpy(stir.FloatVoxelsOnCartesianGrid.read_from_file('OSEM_zoom_10rays_192.hv'));\n",
    "OSEMZ10R216=to_numpy(stir.FloatVoxelsOnCartesianGrid.read_from_file('OSEM_zoom_10rays_216.hv'));\n",
    "OSEMZ10R240=to_numpy(stir.FloatVoxelsOnCartesianGrid.read_from_file('OSEM_zoom_10rays_240.hv'));\n",
    "\n",
    "it = [24, 48, 72, 96, 120, 144, 168, 192, 216, 240];\n",
    "#The location of the voxel is chosen to be in the lung lesion \n",
    "col=59;\n",
    "colz=col*2;\n",
    "rowz=2*row-1;\n",
    "OSEMvalues = [OSEM24[slice,row,col], OSEM48[slice,row,col], OSEM72[slice,row,col], OSEM96[slice,row,col], OSEM120[slice,row,col], OSEM144[slice,row,col], OSEM168[slice,row,col], OSEM192[slice,row,col], OSEM216[slice,row,col], OSEM240[slice,row,col]];\n",
    "OSEMZ10Rvalues = [2*OSEMZ10R24[slice,rowz,colz], 2*OSEMZ10R48[slice,rowz,colz], 2*OSEMZ10R72[slice,rowz,colz], 2*OSEMZ10R96[slice,rowz,colz], 2*OSEMZ10R120[slice,rowz,colz], 2*OSEMZ10R144[slice,rowz,colz], 2*OSEMZ10R168[slice,rowz,colz], 2*OSEMZ10R192[slice,rowz,colz], 2*OSEMZ10R216[slice,rowz,colz], 2*OSEMZ10R240[slice,rowz,colz]];\n",
    "fig=plt.figure()\n",
    "plt.plot(it, OSEMvalues, 'bo')\n",
    "plt.plot(it, OSEMZ10Rvalues, 'ro')\n",
    "plt.axis([0, 250, 40, 70])\n",
    "plt.title('Image value over subiteration')\n",
    "plt.legend(('OSEM','Zoomed OSEM'))\n",
    "plt.show();"
   ]
  },
  {
   "cell_type": "markdown",
   "metadata": {
    "slideshow": {
     "slide_type": "slide"
    }
   },
   "source": [
    "# close all plots"
   ]
  },
  {
   "cell_type": "code",
   "execution_count": null,
   "metadata": {
    "slideshow": {
     "slide_type": "slide"
    }
   },
   "outputs": [],
   "source": [
    "plt.close('all')"
   ]
  }
 ],
 "metadata": {
  "language": "python"
 },
 "nbformat": 4,
 "nbformat_minor": 2
}
