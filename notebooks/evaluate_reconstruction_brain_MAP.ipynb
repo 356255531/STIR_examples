{
 "cells": [
  {
   "cell_type": "code",
   "execution_count": null,
   "metadata": {
    "slideshow": {
     "slide_type": "slide"
    }
   },
   "outputs": [],
   "source": [
    "# -*- coding: utf-8 -*-\n",
    "\"\"\"\n",
    "Example script to serve as starting point for displaying the results of the brain reconstruction.\n",
    "\n",
    "The current script reads results from the simulation and displays them.\n",
    "\n",
    "Prerequisite:\n",
    "You should have executed the following on your command prompt\n",
    "    ./run_simulation_brain.sh\n",
    "    ./run_reconstruction_brain.sh\n",
    "    ./run_reconstruction_brain_MAP.sh\n",
    "    \n",
    "Author: Kris Thielemans\n",
    "\"\"\""
   ]
  },
  {
   "cell_type": "code",
   "execution_count": null,
   "metadata": {},
   "outputs": [],
   "source": [
    "%matplotlib notebook"
   ]
  },
  {
   "cell_type": "markdown",
   "metadata": {
    "slideshow": {
     "slide_type": "slide"
    }
   },
   "source": [
    "# Initial imports"
   ]
  },
  {
   "cell_type": "code",
   "execution_count": null,
   "metadata": {
    "slideshow": {
     "slide_type": "slide"
    }
   },
   "outputs": [],
   "source": [
    "import numpy\n",
    "import matplotlib.pyplot as plt\n",
    "import stir\n",
    "from stirextra import *\n",
    "import os"
   ]
  },
  {
   "cell_type": "markdown",
   "metadata": {
    "slideshow": {
     "slide_type": "slide"
    }
   },
   "source": [
    "# go to directory with input files"
   ]
  },
  {
   "cell_type": "code",
   "execution_count": null,
   "metadata": {
    "slideshow": {
     "slide_type": "slide"
    }
   },
   "outputs": [],
   "source": [
    "# adapt this path to your situation (or start everything in the exercises directory)\n",
    "os.chdir(os.getenv('STIR_exercises_PATH'))"
   ]
  },
  {
   "cell_type": "markdown",
   "metadata": {
    "slideshow": {
     "slide_type": "slide"
    }
   },
   "source": [
    "# change directory to where the output files are"
   ]
  },
  {
   "cell_type": "code",
   "execution_count": null,
   "metadata": {
    "slideshow": {
     "slide_type": "slide"
    }
   },
   "outputs": [],
   "source": [
    "os.chdir('working_folder/brain')"
   ]
  },
  {
   "cell_type": "markdown",
   "metadata": {
    "slideshow": {
     "slide_type": "slide"
    }
   },
   "source": [
    "# Read in images"
   ]
  },
  {
   "cell_type": "code",
   "execution_count": null,
   "metadata": {
    "slideshow": {
     "slide_type": "slide"
    }
   },
   "outputs": [],
   "source": [
    "# OSL_QP_240.hv is the output of the One Step Late algorithm with a Quadratic Prior, 240 subiterations\n",
    "# OSSPS_QP_240.hv is the output of the relaxed OSSPS algorithm with a Quadratic Prior, 240 subiterations\n",
    "# \"High\" means a 10 times higher penalty\n",
    "OSEM240=to_numpy(stir.FloatVoxelsOnCartesianGrid.read_from_file('OSEM_240.hv'));\n",
    "OSLQP240=to_numpy(stir.FloatVoxelsOnCartesianGrid.read_from_file('OSL_QP_240.hv'));\n",
    "OSSPSQP240=to_numpy(stir.FloatVoxelsOnCartesianGrid.read_from_file('OSSPS_QP_240.hv'));\n",
    "OSLQPLow240=to_numpy(stir.FloatVoxelsOnCartesianGrid.read_from_file('OSL_QP_Low_240.hv'));\n",
    "OSSPSQPLow240=to_numpy(stir.FloatVoxelsOnCartesianGrid.read_from_file('OSSPS_QP_Low_240.hv'));\n",
    "OSLQPHigh240=to_numpy(stir.FloatVoxelsOnCartesianGrid.read_from_file('OSL_QP_High_240.hv'));\n",
    "OSSPSQPHigh240=to_numpy(stir.FloatVoxelsOnCartesianGrid.read_from_file('OSSPS_QP_High_240.hv'));"
   ]
  },
  {
   "cell_type": "markdown",
   "metadata": {
    "slideshow": {
     "slide_type": "slide"
    }
   },
   "source": [
    "# bitmap display of images OSEM vs OSL vs OSSPS"
   ]
  },
  {
   "cell_type": "code",
   "execution_count": null,
   "metadata": {
    "slideshow": {
     "slide_type": "slide"
    }
   },
   "outputs": [],
   "source": [
    "maxforplot=OSEM240.max();\n",
    "# pick central slice\n",
    "slice=numpy.int(OSEM240.shape[0]/2);"
   ]
  },
  {
   "cell_type": "code",
   "execution_count": null,
   "metadata": {
    "slideshow": {
     "slide_type": "slide"
    }
   },
   "outputs": [],
   "source": [
    "plt.figure();\n",
    "ax=plt.subplot(1,4,1);\n",
    "plt.imshow(OSEM240[slice,:,:,]);\n",
    "plt.clim(0,maxforplot)\n",
    "plt.colorbar();\n",
    "plt.axis('off');\n",
    "ax.set_title('OSEM\\n240 subiters.');\n",
    "\n",
    "ax=plt.subplot(1,4,2);\n",
    "plt.imshow(OSLQP240[slice,:,:,]);\n",
    "plt.clim(0,maxforplot)\n",
    "plt.colorbar();\n",
    "plt.axis('off');\n",
    "ax.set_title('OSL');\n",
    "\n",
    "ax=plt.subplot(1,4,3);\n",
    "plt.imshow(OSSPSQP240[slice,:,:,]);\n",
    "plt.clim(0,maxforplot)\n",
    "plt.colorbar();\n",
    "plt.axis('off');\n",
    "ax.set_title('OSSPS');\n",
    "\n",
    "\n",
    "diff=OSLQP240-OSSPSQP240;\n",
    "ax=plt.subplot(1,4,4);\n",
    "plt.imshow(diff[slice,:,:,]);\n",
    "plt.clim(-maxforplot/10,maxforplot/10)\n",
    "plt.colorbar();\n",
    "plt.axis('off');\n",
    "ax.set_title('OSL - OSSPS');"
   ]
  },
  {
   "cell_type": "markdown",
   "metadata": {
    "slideshow": {
     "slide_type": "slide"
    }
   },
   "source": [
    "# Display central horizontal profiles through the image"
   ]
  },
  {
   "cell_type": "code",
   "execution_count": null,
   "metadata": {
    "slideshow": {
     "slide_type": "slide"
    }
   },
   "outputs": [],
   "source": [
    "plt.figure()\n",
    "# pick central line\n",
    "row=numpy.int(OSEM240.shape[1]/2);\n",
    "#plt.hold(True)\n",
    "plt.plot(OSEM240[slice,row,:],'b');\n",
    "plt.plot(OSLQP240[slice,row,:],'c');\n",
    "plt.plot(OSSPSQP240[slice,row,:],'r');\n",
    "plt.legend(('OSEM240','OSL','OSSPS'));"
   ]
  },
  {
   "cell_type": "markdown",
   "metadata": {
    "slideshow": {
     "slide_type": "slide"
    }
   },
   "source": [
    "# bitmap display of OSSPS images for different penalties"
   ]
  },
  {
   "cell_type": "code",
   "execution_count": null,
   "metadata": {
    "slideshow": {
     "slide_type": "slide"
    }
   },
   "outputs": [],
   "source": [
    "fig=plt.figure();\n",
    "ax=plt.subplot(1,3,1);\n",
    "plt.imshow(OSSPSQPLow240[slice,:,:,]);\n",
    "plt.clim(0,maxforplot)\n",
    "plt.colorbar();\n",
    "plt.axis('off');\n",
    "ax.set_title('Low penalty');\n",
    "\n",
    "ax=plt.subplot(1,3,2);\n",
    "plt.imshow(OSSPSQP240[slice,:,:,]);\n",
    "plt.clim(0,maxforplot)\n",
    "plt.colorbar();\n",
    "plt.axis('off');\n",
    "ax.set_title('Medium penalty');\n",
    "\n",
    "ax=plt.subplot(1,3,3);\n",
    "plt.imshow(OSSPSQPHigh240[slice,:,:,]);\n",
    "plt.clim(0,maxforplot)\n",
    "plt.colorbar();\n",
    "plt.axis('off');\n",
    "ax.set_title('High penalty');"
   ]
  },
  {
   "cell_type": "markdown",
   "metadata": {
    "slideshow": {
     "slide_type": "slide"
    }
   },
   "source": [
    "# bitmap display of OSL vs OSSPS images for high penalty"
   ]
  },
  {
   "cell_type": "code",
   "execution_count": null,
   "metadata": {
    "slideshow": {
     "slide_type": "slide"
    }
   },
   "outputs": [],
   "source": [
    "# This might be surprising. What happened here?\n",
    "\n",
    "plt.figure();\n",
    "ax=plt.subplot(1,2,1);\n",
    "plt.imshow(OSLQPHigh240[slice,:,:,]);\n",
    "plt.clim(0,maxforplot)\n",
    "plt.colorbar();\n",
    "plt.axis('off');\n",
    "ax.set_title('OSL high penalty');\n",
    "\n",
    "ax=plt.subplot(1,2,2);\n",
    "plt.imshow(OSSPSQPHigh240[slice,:,:,]);\n",
    "plt.clim(0,maxforplot)\n",
    "plt.colorbar();\n",
    "plt.axis('off');\n",
    "ax.set_title('OSSPS high penalty');"
   ]
  }
 ],
 "metadata": {
  "language": "python"
 },
 "nbformat": 4,
 "nbformat_minor": 2
}
