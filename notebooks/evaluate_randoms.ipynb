{
 "cells": [
  {
   "cell_type": "code",
   "execution_count": null,
   "metadata": {
    "slideshow": {
     "slide_type": "slide"
    }
   },
   "outputs": [],
   "source": [
    "# -*- coding: utf-8 -*-\n",
    "\"\"\"\n",
    "Example script to serve as starting point for displaying the results of the brain reconstruction.\n",
    "\n",
    "The current script reads results from the simulation and displays them.\n",
    "\n",
    "Prerequisite:\n",
    "You should have executed the following on your command prompt\n",
    "    ./run_simulation_brain.sh\n",
    "    ./run_reconstruction_brain.sh\n",
    "    ./run_reconstruction_brain_MAP.sh\n",
    "    \n",
    "Author: Kris Thielemans\n",
    "\"\"\""
   ]
  },
  {
   "cell_type": "code",
   "execution_count": null,
   "metadata": {},
   "outputs": [],
   "source": [
    "%matplotlib notebook"
   ]
  },
  {
   "cell_type": "markdown",
   "metadata": {
    "slideshow": {
     "slide_type": "slide"
    }
   },
   "source": [
    "# Initial imports"
   ]
  },
  {
   "cell_type": "code",
   "execution_count": null,
   "metadata": {
    "slideshow": {
     "slide_type": "slide"
    }
   },
   "outputs": [],
   "source": [
    "import numpy\n",
    "import matplotlib.pyplot as plt\n",
    "import stir\n",
    "from stirextra import *\n",
    "import os\n",
    "import io"
   ]
  },
  {
   "cell_type": "markdown",
   "metadata": {
    "slideshow": {
     "slide_type": "slide"
    }
   },
   "source": [
    "# go to directory with input files"
   ]
  },
  {
   "cell_type": "code",
   "execution_count": null,
   "metadata": {
    "slideshow": {
     "slide_type": "slide"
    }
   },
   "outputs": [],
   "source": [
    "# adapt this path to your situation (or start everything in the exercises directory)\n",
    "os.chdir(os.getenv('STIR_exercises_PATH'))"
   ]
  },
  {
   "cell_type": "markdown",
   "metadata": {
    "slideshow": {
     "slide_type": "slide"
    }
   },
   "source": [
    "# change directory to where the output files are"
   ]
  },
  {
   "cell_type": "code",
   "execution_count": null,
   "metadata": {
    "slideshow": {
     "slide_type": "slide"
    }
   },
   "outputs": [],
   "source": [
    "os.chdir('working_folder/randoms')"
   ]
  },
  {
   "cell_type": "markdown",
   "metadata": {
    "slideshow": {
     "slide_type": "slide"
    }
   },
   "source": [
    "# Define functions that read and write the .out files used by STIR"
   ]
  },
  {
   "cell_type": "code",
   "execution_count": null,
   "metadata": {
    "slideshow": {
     "slide_type": "slide"
    }
   },
   "outputs": [],
   "source": [
    "\"\"\"\n",
    "  STIR uses a Mathematica-type of text-format for arrays, where {} are used for every row.\n",
    "  Here we define a function that gets rid of the braces and then uses numpy.fromstring\n",
    "  to read the comma-separated values into a numpy array.\n",
    "  \n",
    "  Warning: the next implementation only works for 1D arrays\n",
    "\"\"\"\n",
    "def readSinglesFile(filename):\n",
    "    f=io.open(filename,'r');\n",
    "    lines=f.readlines();\n",
    "    f.close();\n",
    "    array=numpy.array([]);\n",
    "    for l in lines:\n",
    "        l=l.replace('}','').replace('{','').strip();\n",
    "        if len(l)!=0:\n",
    "            a=numpy.fromstring(l,sep=',');\n",
    "            array=numpy.append(array,a);\n",
    "    return array;\n",
    "    \n",
    "\"\"\"\n",
    "  Write a 1D array as a STIR text-file for 2D arrays, as appropriate for the STIR normalisation code\n",
    "\"\"\"\n",
    "def writeSinglesFile(filename, singles):\n",
    "    numpy.savetxt(filename, singles.reshape(1,singles.shape[0]), delimiter=',', fmt='%g',header='{{', footer='}}', comments='');"
   ]
  },
  {
   "cell_type": "markdown",
   "metadata": {
    "slideshow": {
     "slide_type": "slide"
    }
   },
   "source": [
    "# read original and estimated singles"
   ]
  },
  {
   "cell_type": "code",
   "execution_count": null,
   "metadata": {
    "slideshow": {
     "slide_type": "slide"
    }
   },
   "outputs": [],
   "source": [
    "mean_singles=readSinglesFile('true_singles_eff_1_1.out');\n",
    "estimated_singles=readSinglesFile('estimated_singles_eff_1_10.out');\n",
    "fansums=readSinglesFile('fansums_for_my_randoms.dat');"
   ]
  },
  {
   "cell_type": "markdown",
   "metadata": {
    "slideshow": {
     "slide_type": "slide"
    }
   },
   "source": [
    "# read sinograms"
   ]
  },
  {
   "cell_type": "code",
   "execution_count": null,
   "metadata": {
    "slideshow": {
     "slide_type": "slide"
    }
   },
   "outputs": [],
   "source": [
    "mean_randoms=to_numpy(stir.ProjData.read_from_file('mean_randoms.hs'));\n",
    "noisy_randoms=to_numpy(stir.ProjData.read_from_file('my_randoms.hs'));\n",
    "estimated_randoms=to_numpy(stir.ProjData.read_from_file('estimated_randoms.hs'));"
   ]
  },
  {
   "cell_type": "markdown",
   "metadata": {
    "slideshow": {
     "slide_type": "slide"
    }
   },
   "source": [
    "# Plot sinograms"
   ]
  },
  {
   "cell_type": "code",
   "execution_count": null,
   "metadata": {
    "slideshow": {
     "slide_type": "slide"
    }
   },
   "outputs": [],
   "source": [
    "maxforplot=mean_randoms.max()*1.3;\n",
    "slice=0;\n",
    "\n",
    "plt.figure()\n",
    "ax=plt.subplot(1,3,1);\n",
    "plt.imshow(mean_randoms[slice,:,:,]);\n",
    "plt.clim(0,maxforplot)\n",
    "ax.set_title('mean of\\nrandoms');\n",
    "plt.axis('off');\n",
    "plt.colorbar();\n",
    "\n",
    "ax=plt.subplot(1,3,2);\n",
    "plt.imshow(noisy_randoms[slice,:,:,]);\n",
    "plt.clim(0,maxforplot);\n",
    "ax.set_title('noisy randoms\\n(i.e. delayeds)');\n",
    "plt.axis('off');\n",
    "plt.colorbar();\n",
    "\n",
    "ax=plt.subplot(1,3,3);\n",
    "plt.imshow(estimated_randoms[slice,:,:,]);\n",
    "plt.clim(0,maxforplot);\n",
    "ax.set_title('estimated\\nrandoms');\n",
    "plt.axis('off');\n",
    "plt.colorbar();"
   ]
  },
  {
   "cell_type": "markdown",
   "metadata": {
    "slideshow": {
     "slide_type": "slide"
    }
   },
   "source": [
    "# plot singles themselves"
   ]
  },
  {
   "cell_type": "code",
   "execution_count": null,
   "metadata": {
    "slideshow": {
     "slide_type": "slide"
    }
   },
   "outputs": [],
   "source": [
    "plt.figure()\n",
    "#plt.hold(True)\n",
    "plt.plot(mean_singles,'b.-')\n",
    "plt.plot(estimated_singles,'g.-')\n",
    "plt.legend(('original singles','estimated singles'));\n",
    "plt.xlabel('detector number')\n",
    "plt.gca().set_title('singles');"
   ]
  },
  {
   "cell_type": "markdown",
   "metadata": {
    "slideshow": {
     "slide_type": "slide"
    }
   },
   "source": [
    "# Plot the ratio of the fansums with estimated"
   ]
  },
  {
   "cell_type": "code",
   "execution_count": null,
   "metadata": {
    "slideshow": {
     "slide_type": "slide"
    }
   },
   "outputs": [],
   "source": [
    "plt.figure()\n",
    "plt.plot(fansums/estimated_singles,'r.-')\n",
    "plt.xlabel('detector number')\n",
    "plt.gca().set_title('fansums / estimated');"
   ]
  },
  {
   "cell_type": "markdown",
   "metadata": {
    "slideshow": {
     "slide_type": "slide"
    }
   },
   "source": [
    "# Extended exercise: set some singles to zero"
   ]
  },
  {
   "cell_type": "code",
   "execution_count": null,
   "metadata": {
    "slideshow": {
     "slide_type": "slide"
    }
   },
   "outputs": [],
   "source": [
    "# Here we modify the mean of the singles (i.e. the simulation input)\n",
    "# by setting some values to zero (e.g. to simulate a defective block)\n",
    "# \n",
    "# After this, run the run_randoms.sh script again to get new sinograms and estimates.\n",
    "# You can the just repeat the evaluation by executing this evaluation script again).\n",
    "mean_singles[10:18]=0;\n",
    "writeSinglesFile('true_singles_eff_1_1.out',mean_singles)"
   ]
  }
 ],
 "metadata": {
  "language": "python"
 },
 "nbformat": 4,
 "nbformat_minor": 2
}
