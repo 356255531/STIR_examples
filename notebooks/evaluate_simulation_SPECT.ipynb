{
 "cells": [
  {
   "cell_type": "code",
   "execution_count": null,
   "metadata": {
    "slideshow": {
     "slide_type": "slide"
    }
   },
   "outputs": [],
   "source": [
    "# -*- coding: utf-8 -*-\n",
    "\"\"\"\n",
    "Example script to serve as starting point for display the results of the SPECT simulation\n",
    "\n",
    "You should have run\n",
    "    ./run_simulation_SPECT.sh\n",
    "    \n",
    "The current script reads results from the simulation and displays them\n",
    "\n",
    "Author: Kris Thielemans\n",
    "\"\"\""
   ]
  },
  {
   "cell_type": "code",
   "execution_count": null,
   "metadata": {},
   "outputs": [],
   "source": [
    "%matplotlib notebook"
   ]
  },
  {
   "cell_type": "markdown",
   "metadata": {
    "slideshow": {
     "slide_type": "slide"
    }
   },
   "source": [
    "# Initial imports"
   ]
  },
  {
   "cell_type": "code",
   "execution_count": null,
   "metadata": {
    "slideshow": {
     "slide_type": "slide"
    }
   },
   "outputs": [],
   "source": [
    "import matplotlib.pyplot as plt\n",
    "import stir\n",
    "from stirextra import *\n",
    "import os"
   ]
  },
  {
   "cell_type": "markdown",
   "metadata": {
    "slideshow": {
     "slide_type": "slide"
    }
   },
   "source": [
    "# go to directory with input files"
   ]
  },
  {
   "cell_type": "code",
   "execution_count": null,
   "metadata": {
    "slideshow": {
     "slide_type": "slide"
    }
   },
   "outputs": [],
   "source": [
    "# adapt this path to your situation (or start everything in the exercises directory)\n",
    "os.chdir(os.getenv('STIR_exercises_PATH'))"
   ]
  },
  {
   "cell_type": "markdown",
   "metadata": {
    "slideshow": {
     "slide_type": "slide"
    }
   },
   "source": [
    "# change directory to where the output files are."
   ]
  },
  {
   "cell_type": "code",
   "execution_count": null,
   "metadata": {
    "slideshow": {
     "slide_type": "slide"
    }
   },
   "outputs": [],
   "source": [
    "os.chdir('working_folder/single_slice_SPECT')"
   ]
  },
  {
   "cell_type": "markdown",
   "metadata": {
    "slideshow": {
     "slide_type": "slide"
    }
   },
   "source": [
    "# Read in images"
   ]
  },
  {
   "cell_type": "code",
   "execution_count": null,
   "metadata": {
    "slideshow": {
     "slide_type": "slide"
    }
   },
   "outputs": [],
   "source": [
    "image=to_numpy(stir.FloatVoxelsOnCartesianGrid.read_from_file('emission.hv'));\n",
    "mu_map=to_numpy(stir.FloatVoxelsOnCartesianGrid.read_from_file('CTAC.hv'));"
   ]
  },
  {
   "cell_type": "markdown",
   "metadata": {
    "slideshow": {
     "slide_type": "slide"
    }
   },
   "source": [
    "# bitmap display of images"
   ]
  },
  {
   "cell_type": "code",
   "execution_count": null,
   "metadata": {
    "slideshow": {
     "slide_type": "slide"
    }
   },
   "outputs": [],
   "source": [
    "slice=0;\n",
    "fig=plt.figure();\n",
    "ax=plt.subplot(1,2,1);\n",
    "plt.imshow(image[slice,:,:,]);\n",
    "plt.colorbar();\n",
    "plt.axis('off');\n",
    "ax.set_title('emission image');\n",
    "\n",
    "ax=plt.subplot(1,2,2);\n",
    "plt.imshow(mu_map[slice,:,:,]);\n",
    "plt.colorbar();\n",
    "plt.axis('off');\n",
    "ax.set_title('attenuation image');\n",
    "\n",
    "fig.savefig('input_images.png')"
   ]
  },
  {
   "cell_type": "markdown",
   "metadata": {
    "slideshow": {
     "slide_type": "slide"
    }
   },
   "source": [
    "# read in sinograms"
   ]
  },
  {
   "cell_type": "code",
   "execution_count": null,
   "metadata": {
    "slideshow": {
     "slide_type": "slide"
    }
   },
   "outputs": [],
   "source": [
    "# simulated data\n",
    "sinogram=to_numpy(stir.ProjData.read_from_file('my_sim.hs'));\n",
    "# after adding some noise\n",
    "noisy_sinogram=to_numpy(stir.ProjData.read_from_file('my_noisy_data.hs'));"
   ]
  },
  {
   "cell_type": "markdown",
   "metadata": {
    "slideshow": {
     "slide_type": "slide"
    }
   },
   "source": [
    "# Display bitmaps of a middle sinogram"
   ]
  },
  {
   "cell_type": "code",
   "execution_count": null,
   "metadata": {
    "slideshow": {
     "slide_type": "slide"
    }
   },
   "outputs": [],
   "source": [
    "# When you compare this to PET sinograms, is the angle (theta) range the same? \n",
    "# (open the header of a sinogram, e.g. my_sim.hs, to check what the range is for this \n",
    "# SPECT sinogram)\n",
    "maxforplot=sinogram.max();\n",
    "\n",
    "slice=0; # single sinogram only, but returned as a 3D array\n",
    "fig=plt.figure()\n",
    "ax=plt.subplot(1,2,1);\n",
    "plt.imshow(sinogram[slice,:,:,]);\n",
    "plt.clim(0,maxforplot)\n",
    "ax.set_title('simulation');\n",
    "plt.axis('off');\n",
    "\n",
    "ax=plt.subplot(1,2,2);\n",
    "plt.imshow(noisy_sinogram[slice,:,:,]);\n",
    "plt.clim(0,maxforplot);\n",
    "ax.set_title('noisy');\n",
    "\n",
    "fig.savefig('sinogram_bitmaps.png')\n",
    "\n",
    "plt.axis('off');"
   ]
  },
  {
   "cell_type": "markdown",
   "metadata": {
    "slideshow": {
     "slide_type": "slide"
    }
   },
   "source": [
    "# Display central horizontal profiles through the sinogram"
   ]
  },
  {
   "cell_type": "code",
   "execution_count": null,
   "metadata": {
    "slideshow": {
     "slide_type": "slide"
    }
   },
   "outputs": [],
   "source": [
    "fig=plt.figure()\n",
    "plt.plot(sinogram[slice,128/2,:],'b');\n",
    "#plt.hold(True)\n",
    "plt.plot(noisy_sinogram[slice,128/2,:],'c');\n",
    "plt.legend(('simulation','with added noise'));\n",
    "\n",
    "fig.savefig('sinogram_profiles.png')"
   ]
  },
  {
   "cell_type": "markdown",
   "metadata": {
    "slideshow": {
     "slide_type": "slide"
    }
   },
   "source": [
    "# What to do now?"
   ]
  },
  {
   "cell_type": "code",
   "execution_count": null,
   "metadata": {
    "slideshow": {
     "slide_type": "slide"
    }
   },
   "outputs": [],
   "source": [
    "# - make a copy of the files to a new directory\n",
    "#  and edit the new forward_projector_SPECT.par to change PSF parameters\n",
    "#  Then simulate again via the command\n",
    "#    ./simulate_data.sh emission.hv CTAC.hv template_sinogram.hs"
   ]
  },
  {
   "cell_type": "markdown",
   "metadata": {
    "slideshow": {
     "slide_type": "slide"
    }
   },
   "source": [
    "# close all plots"
   ]
  },
  {
   "cell_type": "code",
   "execution_count": null,
   "metadata": {
    "slideshow": {
     "slide_type": "slide"
    }
   },
   "outputs": [],
   "source": [
    "plt.close('all')"
   ]
  }
 ],
 "metadata": {
  "language": "python"
 },
 "nbformat": 4,
 "nbformat_minor": 2
}
