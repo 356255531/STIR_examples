{
 "cells": [
  {
   "cell_type": "code",
   "execution_count": null,
   "metadata": {
    "slideshow": {
     "slide_type": "slide"
    }
   },
   "outputs": [],
   "source": [
    "# -*- coding: utf-8 -*-\n",
    "\"\"\"\n",
    "Example script to serve as starting point for displaying the results of the brain reconstruction.\n",
    "\n",
    "The current script reads results from the simulation and displays them.\n",
    "\n",
    "Prerequisite:\n",
    "You should have executed the following on your command prompt\n",
    "    ./run_simulation_SPECT.sh\n",
    "    ./run_reconstruction_SPECT.sh\n",
    "    ./run_reconstruction_SPECT_MAP.sh\n",
    "    ./run_reconstruction_SPECT_PSF.sh\n",
    "Author: Kris Thielemans\n",
    "\"\"\""
   ]
  },
  {
   "cell_type": "code",
   "execution_count": null,
   "metadata": {},
   "outputs": [],
   "source": [
    "%matplotlib notebook"
   ]
  },
  {
   "cell_type": "markdown",
   "metadata": {
    "slideshow": {
     "slide_type": "slide"
    }
   },
   "source": [
    "# Initial imports"
   ]
  },
  {
   "cell_type": "code",
   "execution_count": null,
   "metadata": {
    "slideshow": {
     "slide_type": "slide"
    }
   },
   "outputs": [],
   "source": [
    "import numpy\n",
    "import matplotlib.pyplot as plt\n",
    "import stir\n",
    "from stirextra import *\n",
    "import os"
   ]
  },
  {
   "cell_type": "markdown",
   "metadata": {
    "slideshow": {
     "slide_type": "slide"
    }
   },
   "source": [
    "# go to directory with input files"
   ]
  },
  {
   "cell_type": "code",
   "execution_count": null,
   "metadata": {
    "slideshow": {
     "slide_type": "slide"
    }
   },
   "outputs": [],
   "source": [
    "# adapt this path to your situation (or start everything in the exercises directory)\n",
    "os.chdir(os.getenv('STIR_exercises_PATH'))"
   ]
  },
  {
   "cell_type": "markdown",
   "metadata": {
    "slideshow": {
     "slide_type": "slide"
    }
   },
   "source": [
    "# change directory to where the output files are"
   ]
  },
  {
   "cell_type": "code",
   "execution_count": null,
   "metadata": {
    "slideshow": {
     "slide_type": "slide"
    }
   },
   "outputs": [],
   "source": [
    "os.chdir('working_folder/single_slice_SPECT')"
   ]
  },
  {
   "cell_type": "markdown",
   "metadata": {
    "slideshow": {
     "slide_type": "slide"
    }
   },
   "source": [
    "# Read in images"
   ]
  },
  {
   "cell_type": "code",
   "execution_count": null,
   "metadata": {
    "slideshow": {
     "slide_type": "slide"
    }
   },
   "outputs": [],
   "source": [
    "# OSSPS_QP_240.hv is the output of the relaxed OSSPS algorithm with a Quadratic Prior, 240 subiterations\n",
    "# \"PSF\" means that PSF modelling was enabled during the reconstruction\n",
    "ground_truth_image=to_numpy(stir.FloatVoxelsOnCartesianGrid.read_from_file('emission.hv'));\n",
    "OSEM240=to_numpy(stir.FloatVoxelsOnCartesianGrid.read_from_file('OSEM_240.hv'));\n",
    "OSSPSQP240=to_numpy(stir.FloatVoxelsOnCartesianGrid.read_from_file('OSSPS_QP_240.hv'));\n",
    "OSEMPSF240=to_numpy(stir.FloatVoxelsOnCartesianGrid.read_from_file('OSEMPSF_240.hv'));\n",
    "OSSPSPSFQP240=to_numpy(stir.FloatVoxelsOnCartesianGrid.read_from_file('OSSPSPSF_QP_240.hv'));"
   ]
  },
  {
   "cell_type": "markdown",
   "metadata": {
    "slideshow": {
     "slide_type": "slide"
    }
   },
   "source": [
    "# find max and slice number"
   ]
  },
  {
   "cell_type": "code",
   "execution_count": null,
   "metadata": {
    "slideshow": {
     "slide_type": "slide"
    }
   },
   "outputs": [],
   "source": [
    "maxforplot=OSEMPSF240.max();\n",
    "# pick central slice\n",
    "slice=numpy.int(OSEM240.shape[0]/2);"
   ]
  },
  {
   "cell_type": "markdown",
   "metadata": {
    "slideshow": {
     "slide_type": "slide"
    }
   },
   "source": [
    "# bitmap display of images OSEM vs OSL vs OSSPS"
   ]
  },
  {
   "cell_type": "code",
   "execution_count": null,
   "metadata": {
    "slideshow": {
     "slide_type": "slide"
    }
   },
   "outputs": [],
   "source": [
    "fig=plt.figure();\n",
    "ax=plt.subplot(2,2,1);\n",
    "plt.imshow(OSEM240[slice,:,:,]);\n",
    "plt.clim(0,maxforplot)\n",
    "plt.colorbar();\n",
    "plt.axis('off');\n",
    "ax.set_title('OSEM\\n240 subiters.');\n",
    "\n",
    "ax=plt.subplot(2,2,2);\n",
    "plt.imshow(OSSPSQP240[slice,:,:,]);\n",
    "plt.clim(0,maxforplot)\n",
    "plt.colorbar();\n",
    "plt.axis('off');\n",
    "ax.set_title('OSSPS');\n",
    "\n",
    "ax=plt.subplot(2,2,3);\n",
    "plt.imshow(OSEMPSF240[slice,:,:,]);\n",
    "plt.clim(0,maxforplot)\n",
    "plt.colorbar();\n",
    "plt.axis('off');\n",
    "ax.set_title('OSEM with PSF\\n240 subiters.');\n",
    "\n",
    "\n",
    "ax=plt.subplot(2,2,4);\n",
    "plt.imshow(OSSPSPSFQP240[slice,:,:,]);\n",
    "plt.clim(0,maxforplot)\n",
    "plt.colorbar();\n",
    "plt.axis('off');\n",
    "ax.set_title('OSSPS with PSF');\n",
    "\n",
    "\n",
    "plt.savefig('PSF_bitmaps.png')"
   ]
  },
  {
   "cell_type": "markdown",
   "metadata": {
    "slideshow": {
     "slide_type": "slide"
    }
   },
   "source": [
    "# Display horizontal profiles through lesion"
   ]
  },
  {
   "cell_type": "code",
   "execution_count": null,
   "metadata": {
    "slideshow": {
     "slide_type": "slide"
    }
   },
   "outputs": [],
   "source": [
    "fig=plt.figure()\n",
    "row=67;\n",
    "#plt.hold(True)\n",
    "plt.plot(ground_truth_image[slice,row,:],'r');\n",
    "plt.plot(OSEM240[slice,row,:],'b');\n",
    "plt.plot(OSSPSQP240[slice,row,:],'c');\n",
    "plt.plot(OSEMPSF240[slice,row,:],'m.-');\n",
    "plt.plot(OSSPSPSFQP240[slice,row,:],'g.-');\n",
    "plt.legend(('ground truth','OSEM240','OSSPS', 'OSEM with PSF', 'OSSPS with PSF'));\n",
    "\n",
    "plt.savefig('PSF_profiles.png')"
   ]
  }
 ],
 "metadata": {
  "language": "python"
 },
 "nbformat": 4,
 "nbformat_minor": 2
}
