{
 "cells": [
  {
   "cell_type": "code",
   "execution_count": 1,
   "metadata": {
    "slideshow": {
     "slide_type": "slide"
    }
   },
   "outputs": [
    {
     "data": {
      "text/plain": [
       "'\\nDemo of how to use STIR from python to reconstruct some data.\\n\\nThis currently relies on existing data and reconstruction parameter files, but would work\\nfor any data that you have.\\n\\nPrerequisite:\\nYou should have executed the following on your command prompt\\n    ./run_simulation_brain.sh\\n    ./run_reconstruction_brain.sh\\nHowever, it is easy to adapt this to other data-sets.\\n\\nAuthor: Kris Thielemans\\n'"
      ]
     },
     "execution_count": 1,
     "metadata": {},
     "output_type": "execute_result"
    }
   ],
   "source": [
    "# -*- coding: utf-8 -*-\n",
    "\"\"\"\n",
    "Demo of how to use STIR from python to reconstruct some data.\n",
    "\n",
    "This currently relies on existing data and reconstruction parameter files, but would work\n",
    "for any data that you have.\n",
    "\n",
    "Prerequisite:\n",
    "You should have executed the following on your command prompt\n",
    "    ./run_simulation_brain.sh\n",
    "    ./run_reconstruction_brain.sh\n",
    "However, it is easy to adapt this to other data-sets.\n",
    "\n",
    "Author: Kris Thielemans\n",
    "\"\"\"\n",
    "# Copyright 2012-06-05 - 2013 Kris Thielemans\n",
    "# Copyright 2015, 2018 University College London"
   ]
  },
  {
   "cell_type": "code",
   "execution_count": 2,
   "metadata": {},
   "outputs": [],
   "source": [
    "%matplotlib notebook"
   ]
  },
  {
   "cell_type": "markdown",
   "metadata": {
    "slideshow": {
     "slide_type": "slide"
    }
   },
   "source": [
    "# Initial imports"
   ]
  },
  {
   "cell_type": "code",
   "execution_count": 3,
   "metadata": {
    "slideshow": {
     "slide_type": "slide"
    }
   },
   "outputs": [],
   "source": [
    "import stir\n",
    "import stirextra\n",
    "import matplotlib.pyplot as plt\n",
    "import os"
   ]
  },
  {
   "cell_type": "markdown",
   "metadata": {
    "slideshow": {
     "slide_type": "slide"
    }
   },
   "source": [
    "# go to directory with input files"
   ]
  },
  {
   "cell_type": "code",
   "execution_count": 7,
   "metadata": {
    "slideshow": {
     "slide_type": "slide"
    }
   },
   "outputs": [],
   "source": [
    "# adapt this path to your situation (or start everything in the exercises directory)\n",
    "os.chdir('/home/zhiwei/WorkSpace/STIR-exercises/EX_reconstruction_SPECT')"
   ]
  },
  {
   "cell_type": "markdown",
   "metadata": {
    "slideshow": {
     "slide_type": "slide"
    }
   },
   "source": [
    "# initialise reconstruction object"
   ]
  },
  {
   "cell_type": "code",
   "execution_count": 8,
   "metadata": {
    "slideshow": {
     "slide_type": "slide"
    }
   },
   "outputs": [
    {
     "ename": "RuntimeError",
     "evalue": "Error opening file CTAC.hv\n",
     "output_type": "error",
     "traceback": [
      "\u001b[0;31m---------------------------------------------------------------------------\u001b[0m",
      "\u001b[0;31mRuntimeError\u001b[0m                              Traceback (most recent call last)",
      "\u001b[0;32m<ipython-input-8-7be0a315dde8>\u001b[0m in \u001b[0;36m<module>\u001b[0;34m\u001b[0m\n\u001b[1;32m      1\u001b[0m \u001b[0;31m# we will do this here via a .par file\u001b[0m\u001b[0;34m\u001b[0m\u001b[0;34m\u001b[0m\u001b[0;34m\u001b[0m\u001b[0m\n\u001b[0;32m----> 2\u001b[0;31m \u001b[0mrecon\u001b[0m\u001b[0;34m=\u001b[0m\u001b[0mstir\u001b[0m\u001b[0;34m.\u001b[0m\u001b[0mOSMAPOSLReconstruction3DFloat\u001b[0m\u001b[0;34m(\u001b[0m\u001b[0;34m'OSEM.par'\u001b[0m\u001b[0;34m)\u001b[0m\u001b[0;34m\u001b[0m\u001b[0;34m\u001b[0m\u001b[0m\n\u001b[0m",
      "\u001b[0;31mRuntimeError\u001b[0m: Error opening file CTAC.hv\n"
     ]
    }
   ],
   "source": [
    "# we will do this here via a .par file \n",
    "recon=stir.OSMAPOSLReconstruction3DFloat('OSEM.par')"
   ]
  },
  {
   "cell_type": "markdown",
   "metadata": {
    "slideshow": {
     "slide_type": "slide"
    }
   },
   "source": [
    "# check its parameters"
   ]
  },
  {
   "cell_type": "code",
   "execution_count": null,
   "metadata": {
    "slideshow": {
     "slide_type": "slide"
    }
   },
   "outputs": [],
   "source": [
    "# There's quite a few! Most of these are the default values.\n",
    "# You could compare to the .par file.\n",
    "print(recon.parameter_info());"
   ]
  },
  {
   "cell_type": "markdown",
   "metadata": {
    "slideshow": {
     "slide_type": "slide"
    }
   },
   "source": [
    "# get initial image"
   ]
  },
  {
   "cell_type": "code",
   "execution_count": null,
   "metadata": {
    "slideshow": {
     "slide_type": "slide"
    }
   },
   "outputs": [],
   "source": [
    "# Here we're using image size as set by the parameter file.\n",
    "# You could read an image instead, and use that for initialisation.\n",
    "target=recon.get_initial_data_ptr()\n",
    "# we will just fill the whole array with 1 here\n",
    "target.fill(1)"
   ]
  },
  {
   "cell_type": "markdown",
   "metadata": {
    "slideshow": {
     "slide_type": "slide"
    }
   },
   "source": [
    "# run"
   ]
  },
  {
   "cell_type": "code",
   "execution_count": null,
   "metadata": {
    "slideshow": {
     "slide_type": "slide"
    }
   },
   "outputs": [],
   "source": [
    "s=recon.set_up(target);\n",
    "recon.reconstruct(target);"
   ]
  },
  {
   "cell_type": "markdown",
   "metadata": {
    "slideshow": {
     "slide_type": "slide"
    }
   },
   "source": [
    "# Display"
   ]
  },
  {
   "cell_type": "code",
   "execution_count": null,
   "metadata": {
    "slideshow": {
     "slide_type": "slide"
    }
   },
   "outputs": [],
   "source": [
    "plt.figure()\n",
    "# extract to python for plotting\n",
    "npimage=stirextra.to_numpy(target);\n",
    "plt.imshow(npimage[10,:,:])\n",
    "plt.show()"
   ]
  },
  {
   "cell_type": "markdown",
   "metadata": {
    "slideshow": {
     "slide_type": "slide"
    }
   },
   "source": [
    "# save a copy"
   ]
  },
  {
   "cell_type": "code",
   "execution_count": null,
   "metadata": {
    "slideshow": {
     "slide_type": "slide"
    }
   },
   "outputs": [],
   "source": [
    "reconstructed=target.clone();"
   ]
  },
  {
   "cell_type": "markdown",
   "metadata": {
    "slideshow": {
     "slide_type": "slide"
    }
   },
   "source": [
    "# Let's continue for a few more subiterations"
   ]
  },
  {
   "cell_type": "code",
   "execution_count": null,
   "metadata": {
    "slideshow": {
     "slide_type": "slide"
    }
   },
   "outputs": [],
   "source": [
    "# we could just use `set_num_subiterations`, but we will make\n",
    "# sure that the subiteration counter increases such that selected subsets,\n",
    "# filenames etc are correct.\n",
    "previous_nsubiters=recon.get_subiteration_num()\n",
    "recon.set_start_subiteration_num(previous_nsubiters)\n",
    "recon.set_num_subiterations(previous_nsubiters+3)\n",
    "recon.reconstruct(target);\n",
    "# plot slice of final image\n",
    "plt.figure()\n",
    "plt.imshow(npimage[10,:,:])\n",
    "plt.show()\n",
    "# What now?\n",
    "# You could check what other parameter files are available, check their content.\n",
    "# Advanced topic would be to add some filtering between iterations for regularisation"
   ]
  }
 ],
 "metadata": {
  "kernelspec": {
   "display_name": "Python 3",
   "language": "python",
   "name": "python3"
  },
  "language_info": {
   "codemirror_mode": {
    "name": "ipython",
    "version": 3
   },
   "file_extension": ".py",
   "mimetype": "text/x-python",
   "name": "python",
   "nbconvert_exporter": "python",
   "pygments_lexer": "ipython3",
   "version": "3.9.0"
  }
 },
 "nbformat": 4,
 "nbformat_minor": 2
}
