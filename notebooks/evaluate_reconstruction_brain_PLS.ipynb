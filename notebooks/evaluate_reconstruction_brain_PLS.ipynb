{
 "cells": [
  {
   "cell_type": "code",
   "execution_count": null,
   "metadata": {
    "slideshow": {
     "slide_type": "slide"
    }
   },
   "outputs": [],
   "source": [
    "# -*- coding: utf-8 -*-\n",
    "\"\"\"\n",
    "Example script to serve as starting point for display evaluation of reconstructions\n",
    "using the Parallel Level Sets (PLS) prior.\n",
    "\n",
    "Prerequisite:\n",
    "You should have executed the following on your command prompt\n",
    "    ./run_simulation_brain.sh\n",
    "    ./run_reconstruction_brain.sh\n",
    "    ./run_reconstruction_brain_PSF.sh\n",
    "    ./run_reconstruction_brain_PLS.sh\n",
    "\n",
    "This will use the existing data in the folder. The exercise gets more interesting\n",
    "if you added noise to the data.\n",
    "\n",
    "Author: Kris Thielemans\n",
    "\"\"\""
   ]
  },
  {
   "cell_type": "code",
   "execution_count": null,
   "metadata": {},
   "outputs": [],
   "source": [
    "%matplotlib notebook"
   ]
  },
  {
   "cell_type": "markdown",
   "metadata": {
    "slideshow": {
     "slide_type": "slide"
    }
   },
   "source": [
    "# Initial imports"
   ]
  },
  {
   "cell_type": "code",
   "execution_count": null,
   "metadata": {
    "slideshow": {
     "slide_type": "slide"
    }
   },
   "outputs": [],
   "source": [
    "import numpy\n",
    "import matplotlib.pyplot as plt\n",
    "import stir\n",
    "from stirextra import *\n",
    "import os"
   ]
  },
  {
   "cell_type": "markdown",
   "metadata": {
    "slideshow": {
     "slide_type": "slide"
    }
   },
   "source": [
    "# go to directory with input files"
   ]
  },
  {
   "cell_type": "code",
   "execution_count": null,
   "metadata": {
    "slideshow": {
     "slide_type": "slide"
    }
   },
   "outputs": [],
   "source": [
    "# adapt this path to your situation (or start everything in the exercises directory)\n",
    "os.chdir(os.getenv('STIR_exercises_PATH'))"
   ]
  },
  {
   "cell_type": "markdown",
   "metadata": {
    "slideshow": {
     "slide_type": "slide"
    }
   },
   "source": [
    "# change directory to where the output files are"
   ]
  },
  {
   "cell_type": "code",
   "execution_count": null,
   "metadata": {
    "slideshow": {
     "slide_type": "slide"
    }
   },
   "outputs": [],
   "source": [
    "os.chdir('working_folder/brain')"
   ]
  },
  {
   "cell_type": "markdown",
   "metadata": {
    "slideshow": {
     "slide_type": "slide"
    }
   },
   "source": [
    "# Read origin images"
   ]
  },
  {
   "cell_type": "code",
   "execution_count": null,
   "metadata": {
    "slideshow": {
     "slide_type": "slide"
    }
   },
   "outputs": [],
   "source": [
    "groundtruth=to_numpy(stir.FloatVoxelsOnCartesianGrid.read_from_file('ground_truth.hv'));\n",
    "anatomical=to_numpy(stir.FloatVoxelsOnCartesianGrid.read_from_file('anatomical_image.hv'));"
   ]
  },
  {
   "cell_type": "markdown",
   "metadata": {
    "slideshow": {
     "slide_type": "slide"
    }
   },
   "source": [
    "# variables for future display"
   ]
  },
  {
   "cell_type": "code",
   "execution_count": null,
   "metadata": {
    "slideshow": {
     "slide_type": "slide"
    }
   },
   "outputs": [],
   "source": [
    "maxforplot=groundtruth.max();\n",
    "# pick central slice\n",
    "slice=numpy.int(groundtruth.shape[0]/2)"
   ]
  },
  {
   "cell_type": "markdown",
   "metadata": {
    "slideshow": {
     "slide_type": "slide"
    }
   },
   "source": [
    "# Display"
   ]
  },
  {
   "cell_type": "code",
   "execution_count": null,
   "metadata": {
    "slideshow": {
     "slide_type": "slide"
    }
   },
   "outputs": [],
   "source": [
    "plt.figure();\n",
    "\n",
    "ax=plt.subplot(1,2,1);\n",
    "plt.imshow(groundtruth[slice,:,:,]);\n",
    "plt.clim(0,maxforplot)\n",
    "plt.colorbar();\n",
    "plt.axis('off');\n",
    "ax.set_title('ground truth');\n",
    "\n",
    "ax=plt.subplot(1,2,2);\n",
    "plt.imshow(anatomical[slice,:,:,]);\n",
    "plt.colorbar();\n",
    "plt.axis('off');\n",
    "ax.set_title('anatomical image');"
   ]
  },
  {
   "cell_type": "markdown",
   "metadata": {
    "slideshow": {
     "slide_type": "slide"
    }
   },
   "source": [
    "# Read in images"
   ]
  },
  {
   "cell_type": "code",
   "execution_count": null,
   "metadata": {
    "slideshow": {
     "slide_type": "slide"
    }
   },
   "outputs": [],
   "source": [
    "# All reconstruction were run with 240 subiterations using OSL\n",
    "# OSL_PLS_240.hv is the output with the PLS prior\n",
    "# OSLPSF_PLS_240.hv is the output with the PLS prior when using resolution modelling\n",
    "# We also read the OSEM imges with resolution modelling for comparison\n",
    "OSEMPSF240=to_numpy(stir.FloatVoxelsOnCartesianGrid.read_from_file('OSEMPSF_240.hv'));\n",
    "OSLPSF240=to_numpy(stir.FloatVoxelsOnCartesianGrid.read_from_file('OSL_PLS_240.hv'));\n",
    "OSLPLSPSF240=to_numpy(stir.FloatVoxelsOnCartesianGrid.read_from_file('OSLPSF_PLS_240.hv'));"
   ]
  },
  {
   "cell_type": "markdown",
   "metadata": {
    "slideshow": {
     "slide_type": "slide"
    }
   },
   "source": [
    "# bitmap display of images"
   ]
  },
  {
   "cell_type": "code",
   "execution_count": null,
   "metadata": {
    "slideshow": {
     "slide_type": "slide"
    }
   },
   "outputs": [],
   "source": [
    "plt.figure();\n",
    "\n",
    "ax=plt.subplot(2,2,1);\n",
    "plt.imshow(groundtruth[slice,:,:,]);\n",
    "plt.clim(0,maxforplot)\n",
    "plt.colorbar();\n",
    "plt.axis('off');\n",
    "ax.set_title('ground truth');\n",
    "\n",
    "ax=plt.subplot(2,2,2);\n",
    "plt.imshow(OSEMPSF240[slice,:,:,]);\n",
    "plt.clim(0,maxforplot)\n",
    "plt.colorbar();\n",
    "plt.axis('off');\n",
    "ax.set_title('OSEM (with PSF)');\n",
    "\n",
    "ax=plt.subplot(2,2,3);\n",
    "plt.imshow(OSLPSF240[slice,:,:,]);\n",
    "plt.clim(0,maxforplot)\n",
    "plt.colorbar();\n",
    "plt.axis('off');\n",
    "ax.set_title('PLS (no PSF)');\n",
    "\n",
    "ax=plt.subplot(2,2,4);\n",
    "plt.imshow(OSLPLSPSF240[slice,:,:,]);\n",
    "plt.clim(0,maxforplot)\n",
    "plt.colorbar();\n",
    "plt.axis('off');\n",
    "ax.set_title('PLS (with PSF)');"
   ]
  },
  {
   "cell_type": "markdown",
   "metadata": {
    "slideshow": {
     "slide_type": "slide"
    }
   },
   "source": [
    "# What now?"
   ]
  },
  {
   "cell_type": "code",
   "execution_count": null,
   "metadata": {
    "slideshow": {
     "slide_type": "slide"
    }
   },
   "outputs": [],
   "source": [
    "# You can change the parameters of the PLS prior (edit OSMAPOSLPSF_PLS.par)"
   ]
  }
 ],
 "metadata": {
  "language": "python"
 },
 "nbformat": 4,
 "nbformat_minor": 2
}
