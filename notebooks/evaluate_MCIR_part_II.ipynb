{
 "cells": [
  {
   "cell_type": "code",
   "execution_count": null,
   "metadata": {
    "slideshow": {
     "slide_type": "slide"
    }
   },
   "outputs": [],
   "source": [
    "# -*- coding: utf-8 -*-\n",
    "\"\"\"\n",
    "Example script to serve as starting point for displaying and comparing results of motion correction versus no motion correction.\n",
    "\n",
    "Prerequisite:\n",
    "You should have executed the following on your command prompt\n",
    "    ./run_simulations_thorax.sh\n",
    "    ./run_MCIR_0.sh\n",
    "    ./run_MCIR_2.sh\n",
    "    ./run_MCIR_3.sh\n",
    "\n",
    "Authors: Kris Thielemans & Harry Tsoumpas\n",
    "\"\"\""
   ]
  },
  {
   "cell_type": "code",
   "execution_count": null,
   "metadata": {},
   "outputs": [],
   "source": [
    "%matplotlib notebook"
   ]
  },
  {
   "cell_type": "markdown",
   "metadata": {
    "slideshow": {
     "slide_type": "slide"
    }
   },
   "source": [
    "# Initial imports"
   ]
  },
  {
   "cell_type": "code",
   "execution_count": null,
   "metadata": {
    "slideshow": {
     "slide_type": "slide"
    }
   },
   "outputs": [],
   "source": [
    "import numpy\n",
    "import matplotlib.pyplot as plt\n",
    "import stir\n",
    "from stirextra import *\n",
    "import os"
   ]
  },
  {
   "cell_type": "markdown",
   "metadata": {
    "slideshow": {
     "slide_type": "slide"
    }
   },
   "source": [
    "# go to directory with input files"
   ]
  },
  {
   "cell_type": "code",
   "execution_count": null,
   "metadata": {
    "slideshow": {
     "slide_type": "slide"
    }
   },
   "outputs": [],
   "source": [
    "# adapt this path to your situation (or start everything in the exercises directory)\n",
    "os.chdir(os.getenv('STIR_exercises_PATH'))"
   ]
  },
  {
   "cell_type": "markdown",
   "metadata": {
    "slideshow": {
     "slide_type": "slide"
    }
   },
   "source": [
    "# read in images"
   ]
  },
  {
   "cell_type": "code",
   "execution_count": null,
   "metadata": {
    "slideshow": {
     "slide_type": "slide"
    }
   },
   "outputs": [],
   "source": [
    "MCIR=to_numpy(stir.FloatVoxelsOnCartesianGrid.read_from_file('working_folder/MCIR/MCIR_64.hv'));\n",
    "avAC=to_numpy(stir.FloatVoxelsOnCartesianGrid.read_from_file('working_folder/MCIR/avAC/MCIR_64.hv'));\n",
    "g1AC=to_numpy(stir.FloatVoxelsOnCartesianGrid.read_from_file('working_folder/MCIR/g1AC/MCIR_64.hv'));\n",
    "Original=to_numpy(stir.FloatVoxelsOnCartesianGrid.read_from_file('EX_simulation/FDG_g1.hv'));"
   ]
  },
  {
   "cell_type": "markdown",
   "metadata": {
    "slideshow": {
     "slide_type": "slide"
    }
   },
   "source": [
    "# bitmap display of images"
   ]
  },
  {
   "cell_type": "code",
   "execution_count": null,
   "metadata": {
    "slideshow": {
     "slide_type": "slide"
    }
   },
   "outputs": [],
   "source": [
    "# pick central slice\n",
    "slice=numpy.int(MCIR.shape[0]/2);\n",
    "fig=plt.figure();\n",
    "\n",
    "maxforplot=MCIR.max()/500;\n",
    "ax=plt.subplot(1,3,1);\n",
    "plt.imshow(MCIR[slice,:,:,]);\n",
    "plt.clim(0,maxforplot);\n",
    "plt.colorbar();\n",
    "plt.axis('off');\n",
    "ax.set_title('MCIR');\n",
    "\n",
    "ax=plt.subplot(1,3,2);\n",
    "plt.imshow(avAC[slice,:,:,]);\n",
    "plt.clim(0,maxforplot);\n",
    "plt.colorbar();\n",
    "plt.axis('off');\n",
    "ax.set_title('AverageAC');\n",
    "\n",
    "ax=plt.subplot(1,3,3);\n",
    "plt.imshow(g1AC[slice,:,:,]);\n",
    "plt.clim(0,maxforplot);\n",
    "plt.colorbar();\n",
    "plt.axis('off');\n",
    "ax.set_title('Gate1-AC');\n",
    "\n",
    "fig.savefig('MCIR_with_atten_mismatch_bitmaps.png')"
   ]
  },
  {
   "cell_type": "markdown",
   "metadata": {
    "slideshow": {
     "slide_type": "slide"
    }
   },
   "source": [
    "# Display difference images"
   ]
  },
  {
   "cell_type": "code",
   "execution_count": null,
   "metadata": {
    "slideshow": {
     "slide_type": "slide"
    }
   },
   "outputs": [],
   "source": [
    "fig=plt.figure();\n",
    "diff1=Original-MCIR;\n",
    "ax=plt.subplot(1,3,1);\n",
    "plt.imshow(diff1[slice,:,:,]);\n",
    "plt.clim(-maxforplot/50,maxforplot/50)\n",
    "plt.colorbar();\n",
    "plt.axis('off');\n",
    "ax.set_title('Correct AC Diff');\n",
    "\n",
    "diff2=Original-avAC;\n",
    "ax=plt.subplot(1,3,2);\n",
    "plt.imshow(diff2[slice,:,:,]);\n",
    "plt.clim(-maxforplot/50,maxforplot/50)\n",
    "plt.colorbar();\n",
    "plt.axis('off');\n",
    "ax.set_title('AvAC Diff');\n",
    "\n",
    "diff3=Original-g1AC;\n",
    "ax=plt.subplot(1,3,3);\n",
    "plt.imshow(diff3[slice,:,:,]);\n",
    "plt.clim(-maxforplot/50,maxforplot/50)\n",
    "plt.colorbar();\n",
    "plt.axis('off');\n",
    "ax.set_title('g1AC Diff');\n",
    "\n",
    "fig.savefig('MCIR_with_atten_mismatch_diff_bitmaps.png')"
   ]
  },
  {
   "cell_type": "markdown",
   "metadata": {
    "slideshow": {
     "slide_type": "slide"
    }
   },
   "source": [
    "# Display central horizontal profiles through the image"
   ]
  },
  {
   "cell_type": "code",
   "execution_count": null,
   "metadata": {
    "slideshow": {
     "slide_type": "slide"
    }
   },
   "outputs": [],
   "source": [
    "# pick a line close to central line\n",
    "row=numpy.int(MCIR.shape[1]/2+3);\n",
    "\n",
    "fig=plt.figure()\n",
    "plt.plot(MCIR[slice,row,:],'b');\n",
    "#plt.hold(True)\n",
    "plt.plot(avAC[slice,row,:],'c');\n",
    "plt.plot(g1AC[slice,row,:],'r');\n",
    "plt.legend(('MCIR','avAC','g1AC'));"
   ]
  },
  {
   "cell_type": "markdown",
   "metadata": {
    "slideshow": {
     "slide_type": "slide"
    }
   },
   "source": [
    "# close all plots"
   ]
  },
  {
   "cell_type": "code",
   "execution_count": null,
   "metadata": {
    "slideshow": {
     "slide_type": "slide"
    }
   },
   "outputs": [],
   "source": [
    "plt.close('all')"
   ]
  }
 ],
 "metadata": {
  "language": "python"
 },
 "nbformat": 4,
 "nbformat_minor": 2
}
