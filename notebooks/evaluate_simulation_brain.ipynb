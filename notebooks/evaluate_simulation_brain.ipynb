{
 "cells": [
  {
   "cell_type": "code",
   "execution_count": null,
   "metadata": {
    "slideshow": {
     "slide_type": "slide"
    }
   },
   "outputs": [],
   "source": [
    "# -*- coding: utf-8 -*-\n",
    "\"\"\"\n",
    "Example script to serve as starting point for display the results of the brain simulation\n",
    "\n",
    "The current script reads results from the simulation and displays them.\n",
    "\n",
    "Prerequisite:\n",
    "You should have executed the following on your command prompt\n",
    "    ./run_simulation_brain.sh\n",
    "\n",
    "Author: Kris Thielemans\n",
    "\"\"\""
   ]
  },
  {
   "cell_type": "code",
   "execution_count": null,
   "metadata": {},
   "outputs": [],
   "source": [
    "%matplotlib notebook"
   ]
  },
  {
   "cell_type": "markdown",
   "metadata": {
    "slideshow": {
     "slide_type": "slide"
    }
   },
   "source": [
    "# Initial imports"
   ]
  },
  {
   "cell_type": "code",
   "execution_count": null,
   "metadata": {
    "slideshow": {
     "slide_type": "slide"
    }
   },
   "outputs": [],
   "source": [
    "import numpy\n",
    "import matplotlib.pyplot as plt\n",
    "import stir\n",
    "from stirextra import *\n",
    "import os"
   ]
  },
  {
   "cell_type": "markdown",
   "metadata": {
    "slideshow": {
     "slide_type": "slide"
    }
   },
   "source": [
    "# go to directory with input files"
   ]
  },
  {
   "cell_type": "code",
   "execution_count": null,
   "metadata": {
    "slideshow": {
     "slide_type": "slide"
    }
   },
   "outputs": [],
   "source": [
    "# adapt this path to your situation (or start everything in the exercises directory)\n",
    "os.chdir(os.getenv('STIR_exercises_PATH'))"
   ]
  },
  {
   "cell_type": "markdown",
   "metadata": {
    "slideshow": {
     "slide_type": "slide"
    }
   },
   "source": [
    "# change directory to where the output files are"
   ]
  },
  {
   "cell_type": "code",
   "execution_count": null,
   "metadata": {
    "slideshow": {
     "slide_type": "slide"
    }
   },
   "outputs": [],
   "source": [
    "os.chdir('working_folder/brain')"
   ]
  },
  {
   "cell_type": "markdown",
   "metadata": {
    "slideshow": {
     "slide_type": "slide"
    }
   },
   "source": [
    "# Read in images"
   ]
  },
  {
   "cell_type": "code",
   "execution_count": null,
   "metadata": {
    "slideshow": {
     "slide_type": "slide"
    }
   },
   "outputs": [],
   "source": [
    "image=to_numpy(stir.FloatVoxelsOnCartesianGrid.read_from_file('emission.hv'));\n",
    "mu_map=to_numpy(stir.FloatVoxelsOnCartesianGrid.read_from_file('attenuation.hv'));"
   ]
  },
  {
   "cell_type": "markdown",
   "metadata": {
    "slideshow": {
     "slide_type": "slide"
    }
   },
   "source": [
    "# bitmap display of images"
   ]
  },
  {
   "cell_type": "code",
   "execution_count": null,
   "metadata": {
    "slideshow": {
     "slide_type": "slide"
    }
   },
   "outputs": [],
   "source": [
    "slice=7;\n",
    "fig=plt.figure();\n",
    "ax=plt.subplot(1,2,1);\n",
    "plt.imshow(image[slice,:,:,]);\n",
    "plt.colorbar();\n",
    "plt.axis('off');\n",
    "ax.set_title('emission image');\n",
    "\n",
    "ax=plt.subplot(1,2,2);\n",
    "plt.imshow(mu_map[slice,:,:,]);\n",
    "plt.colorbar();\n",
    "plt.axis('off');\n",
    "ax.set_title('attenuation image');\n",
    "\n",
    "fig.savefig('input_images.png')"
   ]
  },
  {
   "cell_type": "markdown",
   "metadata": {
    "slideshow": {
     "slide_type": "slide"
    }
   },
   "source": [
    "# read in sinograms"
   ]
  },
  {
   "cell_type": "code",
   "execution_count": null,
   "metadata": {
    "slideshow": {
     "slide_type": "slide"
    }
   },
   "outputs": [],
   "source": [
    "# prompts (i.e. all counts) including trues and randoms)\n",
    "prompts=to_numpy(stir.ProjData.read_from_file('my_prompts.hs'));\n",
    "# scatter (zero for the brain simulation)\n",
    "scatter=to_numpy(stir.ProjData.read_from_file('my_scatter.hs'));\n",
    "# randoms (constant)\n",
    "randoms=to_numpy(stir.ProjData.read_from_file('my_randoms.hs'));"
   ]
  },
  {
   "cell_type": "markdown",
   "metadata": {
    "slideshow": {
     "slide_type": "slide"
    }
   },
   "source": [
    "# A note on projection data sizes"
   ]
  },
  {
   "cell_type": "code",
   "execution_count": null,
   "metadata": {
    "slideshow": {
     "slide_type": "slide"
    }
   },
   "outputs": [],
   "source": [
    "# In STIR Python, projection data after conversion to numpy is currently always a 3D array. This\n",
    "# simulation is of an acquisition in \"2D\" mode, but with several rings of detectors.\n",
    "# In that case, the projection  data has size num_sinograms x num_views x num_tangential_positions.\n",
    "# In \"3D\" acquisition mode, the situation is more complicated. Effectively all \"segments\"\n",
    "# are concatenated. You can ignore this terminology now, or check it out at\n",
    "# http://stir.sourceforge.net/documentation/STIR-glossary.pdf\n",
    "prompts.shape"
   ]
  },
  {
   "cell_type": "markdown",
   "metadata": {
    "slideshow": {
     "slide_type": "slide"
    }
   },
   "source": [
    "# Display bitmaps of a middle sinogram"
   ]
  },
  {
   "cell_type": "code",
   "execution_count": null,
   "metadata": {
    "slideshow": {
     "slide_type": "slide"
    }
   },
   "outputs": [],
   "source": [
    "# Note that scatter is zero in this brain simulation\n",
    "fig=plt.figure()\n",
    "ax=plt.subplot(1,3,1);\n",
    "plt.imshow(prompts[5,:,:,]);\n",
    "plt.clim(0,prompts.max())\n",
    "ax.set_title('Prompts');\n",
    "plt.axis('off');\n",
    "plt.colorbar()\n",
    "\n",
    "ax=plt.subplot(1,3,2);\n",
    "plt.imshow(scatter[5,:,:,]);\n",
    "plt.clim(0,scatter.max());\n",
    "ax.set_title('scatter');\n",
    "plt.axis('off');\n",
    "plt.colorbar()\n",
    "\n",
    "ax=plt.subplot(1,3,3);\n",
    "plt.imshow(randoms[5,:,:,]);\n",
    "plt.clim(0,randoms.max());\n",
    "ax.set_title('randoms');\n",
    "plt.axis('off');\n",
    "plt.colorbar()\n",
    "\n",
    "fig.savefig('sinogram_bitmaps.png')"
   ]
  },
  {
   "cell_type": "markdown",
   "metadata": {
    "slideshow": {
     "slide_type": "slide"
    }
   },
   "source": [
    "# Display central horizontal profiles through the sinogram"
   ]
  },
  {
   "cell_type": "code",
   "execution_count": null,
   "metadata": {
    "slideshow": {
     "slide_type": "slide"
    }
   },
   "outputs": [],
   "source": [
    "fig=plt.figure()\n",
    "#plt.hold(True)\n",
    "plt.plot(prompts[5,64/2,:],'b');\n",
    "plt.plot(scatter[5,64/2,:],'c');\n",
    "plt.plot((scatter+randoms)[5,64/2,:],'g');\n",
    "plt.legend(('prompts','scatter', 'scatter+randoms'));\n",
    "\n",
    "fig.savefig('sinogram_profiles.png')"
   ]
  },
  {
   "cell_type": "markdown",
   "metadata": {
    "slideshow": {
     "slide_type": "slide"
    }
   },
   "source": [
    "# Display some different views in an a movie"
   ]
  },
  {
   "cell_type": "code",
   "execution_count": null,
   "metadata": {
    "slideshow": {
     "slide_type": "slide"
    }
   },
   "outputs": [],
   "source": [
    "import matplotlib.animation as animation\n",
    "bitmaps=[]\n",
    "fig=plt.figure()\n",
    "for view in range(0,64,4):\n",
    "    bitmap=plt.imshow(prompts[:,view,:,]);\n",
    "    plt.clim(0,prompts.max())\n",
    "    #plt.set_title('Prompts view %d');\n",
    "    plt.axis('off');\n",
    "    bitmaps.append([bitmap])\n",
    "\n",
    "ani = animation.ArtistAnimation(fig, bitmaps, interval=100, blit=True, repeat_delay=1000)"
   ]
  },
  {
   "cell_type": "markdown",
   "metadata": {
    "slideshow": {
     "slide_type": "slide"
    }
   },
   "source": [
    "# close all plots"
   ]
  },
  {
   "cell_type": "code",
   "execution_count": null,
   "metadata": {
    "slideshow": {
     "slide_type": "slide"
    }
   },
   "outputs": [],
   "source": [
    "plt.close('all')"
   ]
  }
 ],
 "metadata": {},
 "nbformat": 4,
 "nbformat_minor": 2
}
